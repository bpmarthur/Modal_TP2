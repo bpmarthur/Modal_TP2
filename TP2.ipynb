{
 "cells": [
  {
   "cell_type": "markdown",
   "id": "b358ca1d-39a9-4137-b178-971b768d8ead",
   "metadata": {},
   "source": [
    "# Lab 2: Graph visualization in Python\n",
    "\n",
    "\n",
    "## Installing libraries then restarting jupyter\n",
    "\n",
    "Before starting the lab, please install the following libraries: ipysigma, networkx, numpy, scikit-learn. \n",
    "\n",
    "After restart jupyter and continue the lab.\n",
    "\n",
    "## Graph library in Python: NetworkX\n",
    "We have seen many community detection algorithms today! Let's\n",
    "test them on a real graph. \n",
    "\n",
    "1. Please check this tutorial and try to make a simple graph: https://networkx.org/documentation/stable/tutorial.html"
   ]
  },
  {
   "cell_type": "code",
   "execution_count": 2,
   "id": "1257ad2f-2d94-4a52-9d47-391af048189b",
   "metadata": {},
   "outputs": [],
   "source": [
    "import networkx as nx\n",
    "from ipysigma import Sigma\n",
    "import numpy as np"
   ]
  },
  {
   "cell_type": "code",
   "execution_count": 3,
   "id": "75479fc6-314e-4657-abe0-264f7d821741",
   "metadata": {},
   "outputs": [
    {
     "name": "stdout",
     "output_type": "stream",
     "text": [
      "[0, 1, 2, 3, 4]\n",
      "[(0, 1), (1, 2), (1, 3), (1, 4), (2, 3), (2, 4), (3, 4)]\n"
     ]
    }
   ],
   "source": [
    "# Exercise 1: Construct a simple graph of 5 nodes and connect those 5 nodes with 7 edges.\n",
    "\n",
    "#Adding Vertices\n",
    "G = nx.Graph()\n",
    "G.add_nodes_from([0, 1, 2, 3])\n",
    "G.add_node(4)\n",
    "\n",
    "#Adding Edges\n",
    "G.add_edges_from([(1, 2), (1, 3), (2, 3), (1, 4), (2, 4), (3, 4)])\n",
    "G.add_edge(0, 1)\n",
    "#e = (1, 2)\n",
    "#G.add_edge(*e)  # unpack edge tuple*\n",
    "\n",
    "#Using the graph\n",
    "print(list(G.nodes))\n",
    "print(list(G.edges))"
   ]
  },
  {
   "cell_type": "markdown",
   "id": "3c238e60-e7b3-43a8-89c0-76f98ca14cc1",
   "metadata": {},
   "source": [
    "### Game of Thrones character interaction\n",
    "You will find in the TP archive a dataset about the interaction of the characters in Game of Thrones, per season. Create a NetworkX graph from one of the seasons (e.g. season 1), adding also the weight of edges. Check if you have created if you created correctly the graph, for example like this:\n",
    "\n",
    "print(G.number_of_nodes())\n",
    "\n",
    "print(G.number_of_edges())\n",
    "\n",
    "print(G.adj['NED']) # for the first season\n",
    "\n",
    "For reading or writing a csv file, you can use the python csv library we saw last time.\n"
   ]
  },
  {
   "cell_type": "code",
   "execution_count": 4,
   "id": "77f0df24",
   "metadata": {},
   "outputs": [
    {
     "name": "stdout",
     "output_type": "stream",
     "text": [
      "[1, 2]\n",
      "[(1, 2)]\n"
     ]
    }
   ],
   "source": [
    "G = nx.Graph([(1, 2, {\"color\": \"yellow\"})])\n",
    "print(list(G.nodes))\n",
    "print(list(G.edges))"
   ]
  },
  {
   "cell_type": "code",
   "execution_count": 5,
   "id": "522c0881-6cfa-4695-ba22-0211cc3c883c",
   "metadata": {},
   "outputs": [
    {
     "name": "stdout",
     "output_type": "stream",
     "text": [
      "['ADDAM_MARBRAND', 'AERYS', 'ARYA', 'BALON', 'BARRISTAN', 'BENJEN', 'BERIC', 'BOWEN_MARSH', 'BRAN', 'BRONN', 'CATELYN', 'CERSEI', 'COHOLLO', 'DAENERYS', 'DAREON', 'DOREAH', 'DROGO', 'GALBART_GLOVER', 'GARED', 'GENDRY', 'GREATJON_UMBER', 'GRENN', 'HODOR', 'HOSTER', 'HOT_PIE', 'HOUND', 'ILLYRIO', 'ILYN_PAYNE', 'IRRI', 'JAIME', 'JANOS', 'JAREMY_RYKKER', 'JEOR', 'JHIQUI', 'JOFFREY', 'JON', 'JON_ARRYN', 'JONOS_BRACKEN', 'JORAH', 'JORY_CASSEL', 'JOYEUSE', 'KEVAN', 'LANCEL', 'LEO_LEFFORD', 'LITTLEFINGER', 'LOMMY_GREENHANDS', 'LORAS', 'LUKE', 'LYANNA', 'LYSA', 'MAESTER_AEMON', 'MAESTER_LUWIN', 'MAGO', 'MARILLION', 'MASHA_HEDDLE', 'MELESSA', 'MERYN_TRANT', 'MHAEGEN', 'MORD', 'MOUNTAIN', 'MYCAH', 'MYRCELLA', 'NED', 'OLD_NAN', 'OSHA', 'OTHOR', 'PYCELLE', 'QOTHO', 'RAKHARO', 'RANDYLL', 'RAST', 'RENLY', 'RHAEGAR', 'RHAEGO', 'RICKARD_KARSTARK', 'RICKARD_STARK', 'RICKON', 'ROBB', 'ROBERT', 'ROBIN', 'RODRIK', 'ROOSE_BOLTON', 'ROS', 'RYGER_RIVERS', 'SAM', 'SANSA', 'SHAE', 'SHAGGA', 'STANNIS', 'STEFFON', 'STEVRON_FREY', 'SYRIO_FOREL', 'THEON', 'TOBHO_MOTT', 'TOMARD', 'TOMMEN', 'TYRION', 'TYWIN', 'VARDIS_EGEN', 'VARLY', 'VARYS', 'VISERYS', 'WALDER', 'WAYMAR_ROYCE']\n",
      "[('ADDAM_MARBRAND', 'KEVAN'), ('ADDAM_MARBRAND', 'LEO_LEFFORD'), ('ADDAM_MARBRAND', 'TYWIN'), ('AERYS', 'NED'), ('AERYS', 'ROBERT'), ('AERYS', 'RICKARD_STARK'), ('AERYS', 'JAIME'), ('AERYS', 'RHAEGAR'), ('AERYS', 'BARRISTAN'), ('AERYS', 'CATELYN'), ('AERYS', 'JORAH'), ('AERYS', 'MAESTER_AEMON'), ('AERYS', 'RENLY'), ('AERYS', 'SANSA'), ('ARYA', 'NED'), ('ARYA', 'SANSA'), ('ARYA', 'SYRIO_FOREL'), ('ARYA', 'JOFFREY'), ('ARYA', 'JON'), ('ARYA', 'ROBERT'), ('ARYA', 'CERSEI'), ('ARYA', 'CATELYN'), ('ARYA', 'GENDRY'), ('ARYA', 'HOUND'), ('ARYA', 'JORY_CASSEL'), ('ARYA', 'VARYS'), ('ARYA', 'ROBB'), ('ARYA', 'BRAN'), ('ARYA', 'HOT_PIE'), ('ARYA', 'LITTLEFINGER'), ('ARYA', 'MERYN_TRANT'), ('ARYA', 'MYCAH'), ('ARYA', 'ILYN_PAYNE'), ('ARYA', 'JAIME'), ('ARYA', 'PYCELLE'), ('ARYA', 'ILLYRIO'), ('ARYA', 'LOMMY_GREENHANDS'), ('ARYA', 'TYRION'), ('BALON', 'THEON'), ('BALON', 'TYRION'), ('BARRISTAN', 'NED'), ('BARRISTAN', 'ROBERT'), ('BARRISTAN', 'CERSEI'), ('BARRISTAN', 'VARYS'), ('BARRISTAN', 'JOFFREY'), ('BARRISTAN', 'JAIME'), ('BARRISTAN', 'LITTLEFINGER'), ('BARRISTAN', 'PYCELLE'), ('BARRISTAN', 'LANCEL'), ('BARRISTAN', 'RENLY'), ('BENJEN', 'JON'), ('BENJEN', 'TYRION'), ('BENJEN', 'NED'), ('BENJEN', 'ROBB'), ('BENJEN', 'CATELYN'), ('BENJEN', 'CERSEI'), ('BENJEN', 'JEOR'), ('BENJEN', 'ROBERT'), ('BERIC', 'NED'), ('BERIC', 'ROBERT'), ('BOWEN_MARSH', 'DAREON'), ('BRAN', 'MAESTER_LUWIN'), ('BRAN', 'ROBB'), ('BRAN', 'NED'), ('BRAN', 'OSHA'), ('BRAN', 'CATELYN'), ('BRAN', 'THEON'), ('BRAN', 'JON'), ('BRAN', 'TYRION'), ('BRAN', 'RICKON'), ('BRAN', 'HODOR'), ('BRAN', 'JAIME'), ('BRAN', 'OLD_NAN'), ('BRAN', 'ROBERT'), ('BRAN', 'RODRIK'), ('BRAN', 'CERSEI'), ('BRAN', 'HOUND'), ('BRONN', 'TYRION'), ('BRONN', 'SHAE'), ('BRONN', 'CATELYN'), ('BRONN', 'RODRIK'), ('BRONN', 'LYSA'), ('BRONN', 'SHAGGA'), ('BRONN', 'TYWIN'), ('BRONN', 'VARDIS_EGEN'), ('BRONN', 'MORD'), ('BRONN', 'ROBIN'), ('BRONN', 'KEVAN'), ('BRONN', 'MARILLION'), ('CATELYN', 'ROBB'), ('CATELYN', 'NED'), ('CATELYN', 'TYRION'), ('CATELYN', 'WALDER'), ('CATELYN', 'LYSA'), ('CATELYN', 'JAIME'), ('CATELYN', 'RODRIK'), ('CATELYN', 'LITTLEFINGER'), ('CATELYN', 'MAESTER_LUWIN'), ('CATELYN', 'CERSEI'), ('CATELYN', 'THEON'), ('CATELYN', 'ROBERT'), ('CATELYN', 'JON'), ('CATELYN', 'SANSA'), ('CATELYN', 'VARDIS_EGEN'), ('CATELYN', 'GREATJON_UMBER'), ('CATELYN', 'VARYS'), ('CATELYN', 'ROBIN'), ('CATELYN', 'MORD'), ('CATELYN', 'JON_ARRYN'), ('CATELYN', 'MARILLION'), ('CATELYN', 'TYWIN'), ('CATELYN', 'HOSTER'), ('CATELYN', 'JOFFREY'), ('CATELYN', 'MASHA_HEDDLE'), ('CATELYN', 'DAENERYS'), ('CATELYN', 'HOUND'), ('CATELYN', 'STEVRON_FREY'), ('CERSEI', 'NED'), ('CERSEI', 'ROBERT'), ('CERSEI', 'JOFFREY'), ('CERSEI', 'JAIME'), ('CERSEI', 'SANSA'), ('CERSEI', 'TYRION'), ('CERSEI', 'VARYS'), ('CERSEI', 'PYCELLE'), ('CERSEI', 'LITTLEFINGER'), ('CERSEI', 'ROBB'), ('CERSEI', 'HOUND'), ('CERSEI', 'ILYN_PAYNE'), ('CERSEI', 'JON'), ('CERSEI', 'JON_ARRYN'), ('CERSEI', 'LANCEL'), ('CERSEI', 'RENLY'), ('CERSEI', 'TYWIN'), ('CERSEI', 'JEOR'), ('CERSEI', 'LYANNA'), ('CERSEI', 'MERYN_TRANT'), ('CERSEI', 'ROS'), ('CERSEI', 'STANNIS'), ('COHOLLO', 'DROGO'), ('DAENERYS', 'JORAH'), ('DAENERYS', 'DROGO'), ('DAENERYS', 'VISERYS'), ('DAENERYS', 'DOREAH'), ('DAENERYS', 'IRRI'), ('DAENERYS', 'QOTHO'), ('DAENERYS', 'RAKHARO'), ('DAENERYS', 'RHAEGO'), ('DAENERYS', 'ILLYRIO'), ('DAENERYS', 'MAGO'), ('DAENERYS', 'ROBERT'), ('DAENERYS', 'VARYS'), ('DAENERYS', 'NED'), ('DAENERYS', 'JHIQUI'), ('DAENERYS', 'SANSA'), ('DAREON', 'JON'), ('DAREON', 'SAM'), ('DAREON', 'GRENN'), ('DAREON', 'JEOR'), ('DAREON', 'LUKE'), ('DAREON', 'MAESTER_AEMON'), ('DAREON', 'RAST'), ('DOREAH', 'VISERYS'), ('DOREAH', 'IRRI'), ('DOREAH', 'DROGO'), ('DOREAH', 'JHIQUI'), ('DOREAH', 'JORAH'), ('DROGO', 'VISERYS'), ('DROGO', 'JORAH'), ('DROGO', 'MAGO'), ('DROGO', 'ILLYRIO'), ('DROGO', 'QOTHO'), ('DROGO', 'RHAEGO'), ('DROGO', 'RAKHARO'), ('DROGO', 'IRRI'), ('DROGO', 'ROBERT'), ('GALBART_GLOVER', 'GREATJON_UMBER'), ('GALBART_GLOVER', 'JONOS_BRACKEN'), ('GALBART_GLOVER', 'ROBB'), ('GENDRY', 'NED'), ('GENDRY', 'TOBHO_MOTT'), ('GENDRY', 'HOT_PIE'), ('GENDRY', 'VARYS'), ('GREATJON_UMBER', 'ROBB'), ('GREATJON_UMBER', 'THEON'), ('GREATJON_UMBER', 'RODRIK'), ('GREATJON_UMBER', 'JAIME'), ('GREATJON_UMBER', 'TYWIN'), ('GREATJON_UMBER', 'NED'), ('GREATJON_UMBER', 'RENLY'), ('GREATJON_UMBER', 'RICKARD_KARSTARK'), ('GREATJON_UMBER', 'STANNIS'), ('GREATJON_UMBER', 'WALDER'), ('GRENN', 'JON'), ('GRENN', 'SAM'), ('GRENN', 'RAST'), ('GRENN', 'TYRION'), ('GRENN', 'JEOR'), ('HODOR', 'ROBB'), ('HODOR', 'THEON'), ('HODOR', 'TYRION'), ('HODOR', 'OSHA'), ('HOSTER', 'WALDER'), ('HOT_PIE', 'LOMMY_GREENHANDS'), ('HOUND', 'SANSA'), ('HOUND', 'JOFFREY'), ('HOUND', 'NED'), ('HOUND', 'TYRION'), ('HOUND', 'MERYN_TRANT'), ('HOUND', 'ROBERT'), ('HOUND', 'LITTLEFINGER'), ('HOUND', 'MOUNTAIN'), ('HOUND', 'LORAS'), ('HOUND', 'ILYN_PAYNE'), ('HOUND', 'JAIME'), ('HOUND', 'ROBB'), ('ILLYRIO', 'VISERYS'), ('ILLYRIO', 'VARYS'), ('ILLYRIO', 'JORAH'), ('ILYN_PAYNE', 'JOFFREY'), ('ILYN_PAYNE', 'NED'), ('ILYN_PAYNE', 'SANSA'), ('ILYN_PAYNE', 'MERYN_TRANT'), ('ILYN_PAYNE', 'VARYS'), ('IRRI', 'RAKHARO'), ('IRRI', 'JORAH'), ('IRRI', 'JHIQUI'), ('IRRI', 'VISERYS'), ('JAIME', 'NED'), ('JAIME', 'TYRION'), ('JAIME', 'TYWIN'), ('JAIME', 'JORY_CASSEL'), ('JAIME', 'ROBERT'), ('JAIME', 'JON'), ('JAIME', 'ROBB'), ('JAIME', 'JOFFREY'), ('JAIME', 'KEVAN'), ('JAIME', 'LITTLEFINGER'), ('JAIME', 'ROS'), ('JAIME', 'THEON'), ('JAIME', 'JON_ARRYN'), ('JAIME', 'RICKARD_STARK'), ('JAIME', 'SANSA'), ('JANOS', 'NED'), ('JANOS', 'VARYS'), ('JANOS', 'RENLY'), ('JANOS', 'LITTLEFINGER'), ('JANOS', 'PYCELLE'), ('JAREMY_RYKKER', 'JEOR'), ('JEOR', 'JON'), ('JEOR', 'SAM'), ('JEOR', 'TYRION'), ('JEOR', 'MAESTER_AEMON'), ('JEOR', 'OTHOR'), ('JEOR', 'NED'), ('JEOR', 'ROBERT'), ('JEOR', 'JOFFREY'), ('JOFFREY', 'SANSA'), ('JOFFREY', 'NED'), ('JOFFREY', 'ROBERT'), ('JOFFREY', 'TYRION'), ('JOFFREY', 'VARYS'), ('JOFFREY', 'MARILLION'), ('JOFFREY', 'PYCELLE'), ('JOFFREY', 'LITTLEFINGER'), ('JOFFREY', 'MERYN_TRANT'), ('JOFFREY', 'ROBB'), ('JOFFREY', 'MYCAH'), ('JOFFREY', 'RENLY'), ('JOFFREY', 'TYWIN'), ('JOFFREY', 'JON'), ('JOFFREY', 'TOMMEN'), ('JON', 'SAM'), ('JON', 'TYRION'), ('JON', 'NED'), ('JON', 'MAESTER_AEMON'), ('JON', 'ROBB'), ('JON', 'RAST'), ('JON', 'THEON'), ('JON', 'OTHOR'), ('JON', 'ROBERT'), ('JON', 'RODRIK'), ('JON', 'ROS'), ('JON_ARRYN', 'NED'), ('JON_ARRYN', 'ROBERT'), ('JON_ARRYN', 'LITTLEFINGER'), ('JON_ARRYN', 'LYSA'), ('JON_ARRYN', 'PYCELLE'), ('JON_ARRYN', 'ROBIN'), ('JON_ARRYN', 'VARYS'), ('JONOS_BRACKEN', 'ROBB'), ('JORAH', 'VISERYS'), ('JORAH', 'RAKHARO'), ('JORAH', 'QOTHO'), ('JORAH', 'RHAEGO'), ('JORAH', 'NED'), ('JORAH', 'VARYS'), ('JORY_CASSEL', 'NED'), ('JORY_CASSEL', 'LITTLEFINGER'), ('JORY_CASSEL', 'ROBERT'), ('JORY_CASSEL', 'MHAEGEN'), ('JORY_CASSEL', 'THEON'), ('JOYEUSE', 'WALDER'), ('KEVAN', 'TYRION'), ('KEVAN', 'TYWIN'), ('KEVAN', 'LEO_LEFFORD'), ('KEVAN', 'SHAGGA'), ('LANCEL', 'ROBERT'), ('LANCEL', 'NED'), ('LANCEL', 'RENLY'), ('LEO_LEFFORD', 'TYRION'), ('LITTLEFINGER', 'NED'), ('LITTLEFINGER', 'VARYS'), ('LITTLEFINGER', 'SANSA'), ('LITTLEFINGER', 'PYCELLE'), ('LITTLEFINGER', 'ROS'), ('LITTLEFINGER', 'RENLY'), ('LITTLEFINGER', 'ROBERT'), ('LITTLEFINGER', 'MOUNTAIN'), ('LITTLEFINGER', 'TYRION'), ('LITTLEFINGER', 'TYWIN'), ('LITTLEFINGER', 'STANNIS'), ('LITTLEFINGER', 'LORAS'), ('LITTLEFINGER', 'MHAEGEN'), ('LORAS', 'RENLY'), ('LORAS', 'MOUNTAIN'), ('LORAS', 'NED'), ('LORAS', 'SANSA'), ('LORAS', 'ROBERT'), ('LYANNA', 'NED'), ('LYANNA', 'ROBERT'), ('LYSA', 'ROBIN'), ('LYSA', 'TYRION'), ('LYSA', 'VARDIS_EGEN'), ('LYSA', 'MORD'), ('MAESTER_AEMON', 'TYRION'), ('MAESTER_AEMON', 'SAM'), ('MAESTER_LUWIN', 'ROBB'), ('MAESTER_LUWIN', 'THEON'), ('MAESTER_LUWIN', 'OSHA'), ('MAESTER_LUWIN', 'TYRION'), ('MAESTER_LUWIN', 'NED'), ('MAESTER_LUWIN', 'ROBERT'), ('MAESTER_LUWIN', 'RODRIK'), ('MAESTER_LUWIN', 'SANSA'), ('MARILLION', 'RODRIK'), ('MARILLION', 'TYRION'), ('MARILLION', 'MERYN_TRANT'), ('MASHA_HEDDLE', 'TYRION'), ('MELESSA', 'SAM'), ('MERYN_TRANT', 'SYRIO_FOREL'), ('MERYN_TRANT', 'SANSA'), ('MERYN_TRANT', 'NED'), ('MHAEGEN', 'NED'), ('MORD', 'TYRION'), ('MORD', 'ROBIN'), ('MORD', 'VARDIS_EGEN'), ('MORD', 'RODRIK'), ('MOUNTAIN', 'NED'), ('MOUNTAIN', 'ROBERT'), ('MOUNTAIN', 'SANSA'), ('MYCAH', 'SANSA'), ('MYCAH', 'NED'), ('MYRCELLA', 'TYRION'), ('NED', 'ROBERT'), ('NED', 'VARYS'), ('NED', 'PYCELLE'), ('NED', 'SANSA'), ('NED', 'RENLY'), ('NED', 'ROBB'), ('NED', 'THEON'), ('NED', 'TYRION'), ('NED', 'TYWIN'), ('NED', 'RODRIK'), ('NED', 'STANNIS'), ('NED', 'TOBHO_MOTT'), ('NED', 'SYRIO_FOREL'), ('NED', 'TOMARD'), ('NED', 'RICKARD_STARK'), ('NED', 'ROOSE_BOLTON'), ('NED', 'ROS'), ('NED', 'STEFFON'), ('NED', 'VARLY'), ('OLD_NAN', 'ROBB'), ('OLD_NAN', 'THEON'), ('OSHA', 'THEON'), ('OSHA', 'ROBB'), ('OSHA', 'RICKON'), ('OTHOR', 'SAM'), ('PYCELLE', 'VARYS'), ('PYCELLE', 'SANSA'), ('PYCELLE', 'ROBERT'), ('PYCELLE', 'ROS'), ('PYCELLE', 'RENLY'), ('PYCELLE', 'TYWIN'), ('QOTHO', 'RAKHARO'), ('RAKHARO', 'VISERYS'), ('RANDYLL', 'SAM'), ('RAST', 'SAM'), ('RAST', 'TYRION'), ('RENLY', 'ROBERT'), ('RENLY', 'STANNIS'), ('RENLY', 'VARYS'), ('RENLY', 'SANSA'), ('RENLY', 'ROBB'), ('RENLY', 'TOMARD'), ('RHAEGAR', 'ROBERT'), ('RHAEGO', 'VISERYS'), ('RICKARD_KARSTARK', 'ROBB'), ('RICKARD_KARSTARK', 'THEON'), ('RICKON', 'ROBB'), ('ROBB', 'THEON'), ('ROBB', 'TYRION'), ('ROBB', 'RODRIK'), ('ROBB', 'SANSA'), ('ROBB', 'ROBERT'), ('ROBB', 'TYWIN'), ('ROBB', 'WALDER'), ('ROBB', 'STANNIS'), ('ROBB', 'VARYS'), ('ROBERT', 'SANSA'), ('ROBERT', 'VARYS'), ('ROBERT', 'TYWIN'), ('ROBERT', 'TYRION'), ('ROBERT', 'VISERYS'), ('ROBERT', 'STANNIS'), ('ROBERT', 'ROS'), ('ROBERT', 'TOMMEN'), ('ROBIN', 'TYRION'), ('ROBIN', 'VARDIS_EGEN'), ('RODRIK', 'TYRION'), ('RODRIK', 'THEON'), ('RODRIK', 'TYWIN'), ('ROS', 'THEON'), ('ROS', 'TYRION'), ('RYGER_RIVERS', 'WALDER'), ('SANSA', 'VARYS'), ('SANSA', 'STANNIS'), ('SHAE', 'TYRION'), ('SHAE', 'TYWIN'), ('SHAGGA', 'TYRION'), ('SHAGGA', 'TYWIN'), ('STANNIS', 'TOMARD'), ('STEVRON_FREY', 'WALDER'), ('THEON', 'TYRION'), ('THEON', 'WALDER'), ('TYRION', 'TYWIN'), ('TYRION', 'VARDIS_EGEN'), ('TYRION', 'VARYS')]\n",
      "104\n",
      "449\n",
      "{'ROBERT': {'weight': 192}, 'LITTLEFINGER': {'weight': 107}, 'VARYS': {'weight': 96}, 'ARYA': {'weight': 90}, 'CERSEI': {'weight': 86}, 'CATELYN': {'weight': 69}, 'PYCELLE': {'weight': 68}, 'JAIME': {'weight': 53}, 'SANSA': {'weight': 49}, 'JORY_CASSEL': {'weight': 44}, 'JOFFREY': {'weight': 39}, 'RENLY': {'weight': 30}, 'BRAN': {'weight': 29}, 'JON': {'weight': 29}, 'BARRISTAN': {'weight': 25}, 'ROBB': {'weight': 23}, 'BENJEN': {'weight': 14}, 'JANOS': {'weight': 13}, 'THEON': {'weight': 13}, 'GENDRY': {'weight': 12}, 'JON_ARRYN': {'weight': 12}, 'TYRION': {'weight': 11}, 'TYWIN': {'weight': 11}, 'HOUND': {'weight': 10}, 'RODRIK': {'weight': 10}, 'STANNIS': {'weight': 10}, 'TOBHO_MOTT': {'weight': 10}, 'MHAEGEN': {'weight': 9}, 'AERYS': {'weight': 8}, 'SYRIO_FOREL': {'weight': 6}, 'TOMARD': {'weight': 6}, 'MAESTER_LUWIN': {'weight': 5}, 'MOUNTAIN': {'weight': 5}, 'ILYN_PAYNE': {'weight': 4}, 'LANCEL': {'weight': 4}, 'LORAS': {'weight': 4}, 'LYANNA': {'weight': 4}, 'RICKARD_STARK': {'weight': 4}, 'BERIC': {'weight': 3}, 'DAENERYS': {'weight': 3}, 'JEOR': {'weight': 3}, 'MERYN_TRANT': {'weight': 3}, 'MYCAH': {'weight': 3}, 'GREATJON_UMBER': {'weight': 2}, 'JORAH': {'weight': 2}, 'ROOSE_BOLTON': {'weight': 2}, 'ROS': {'weight': 2}, 'STEFFON': {'weight': 2}, 'VARLY': {'weight': 2}}\n"
     ]
    }
   ],
   "source": [
    "# Create the Game of Thrones graph from the csv files\n",
    "import csv\n",
    "\n",
    "def graph_from_file(filename_node, filename_edge):\n",
    "\n",
    "    #Creation du graphe\n",
    "    G = nx.Graph()\n",
    "\n",
    "    #Lecture du fichier csv des noeuds\n",
    "    csvfile = open(filename_node, newline=None)\n",
    "    reader = csv.DictReader(csvfile)\n",
    "    for row in reader:\n",
    "        G.add_node(row['Id'], label = row['Label'], link= row['Link'])\n",
    "    csvfile.close()\n",
    "\n",
    "    #Lecture du fichier csv des edges\n",
    "    csvfile = open(filename_edge, newline=None)\n",
    "    reader = csv.DictReader(csvfile)\n",
    "    for row in reader:\n",
    "        G.add_edge(row['Source'], row['Target'], weight= int(row['Weight']))\n",
    "    csvfile.close()\n",
    "\n",
    "    return G\n",
    "\n",
    "G = graph_from_file(\"data-GOT-EXT/got-s1-nodes.csv\", \"data-GOT-EXT/got-s1-edges.csv\")\n",
    "print(list(G.nodes))\n",
    "print(list(G.edges))\n",
    "\n",
    "print(G.number_of_nodes())\n",
    "print(G.number_of_edges())\n",
    "print(G.adj['NED']) # for the first season"
   ]
  },
  {
   "cell_type": "markdown",
   "id": "b46eaf52-5d8d-4740-96f1-ec49f104404e",
   "metadata": {},
   "source": [
    "#### Exercises\n",
    "\n",
    "\n",
    "Do the following exercises. Note that if you find the results a bit difficult to evaluate, you can remove less important nodes from the graph (such as nodes that interact with the least amount of other characters).\n",
    "\n",
    "2. Compute communities using:\n",
    "- the Louvain algorithm https://networkx.org/documentation/stable/reference/algorithms/generated/networkx.algorithms.community.louvain.louvain_communities.html, \n",
    "- clique percolation https://networkx.org/documentation/stable/reference/algorithms/generated/networkx.algorithms.community.kclique.k_clique_communities.html (experiment with different k values)\n",
    "- the Girvan Newman algorithm https://networkx.org/documentation/stable/reference/algorithms/generated/networkx.algorithms.community.centrality.girvan_newman.html\n",
    "- and label propagation https://networkx.org/documentation/stable/reference/algorithms/generated/networkx.algorithms.community.label_propagation.label_propagation_communities.html\n",
    "3. We could suppose that there is a link between the house of the character (its family) and the community it belongs to. Do we observe this pattern in the previous communities? For this, we can check what are the great houses https://gameofthrones.fandom.com/wiki/Great_House .  \n",
    "4. Create a new graph per season and retrieve the top 10 nodes according to a node centrality measure https://networkx.org/documentation/stable/reference/algorithms/centrality.html . Does the nodes'importance change over the seasons, is it important to observe the evolution of a graph over time?  \n",
    "Plot the results for a few nodes over the seasons using matplotlib. Here is a small tutorial on how to do this: https://www.geeksforgeeks.org/how-to-plot-a-time-series-in-matplotlib/"
   ]
  },
  {
   "cell_type": "code",
   "execution_count": 6,
   "id": "8f0d31b1-2ee2-4ffa-9912-a0875602fda4",
   "metadata": {},
   "outputs": [],
   "source": [
    "## Solution for exercises above"
   ]
  },
  {
   "cell_type": "code",
   "execution_count": 7,
   "id": "513a85ab",
   "metadata": {},
   "outputs": [
    {
     "name": "stdout",
     "output_type": "stream",
     "text": [
      "[{'IRRI', 'DAENERYS', 'DROGO', 'JHIQUI', 'RAKHARO', 'MAGO', 'COHOLLO', 'DOREAH', 'RHAEGO', 'VISERYS', 'JORAH', 'ILLYRIO', 'QOTHO'}, {'GARED'}, {'LOMMY_GREENHANDS', 'HOT_PIE'}, {'ROBERT', 'TOMMEN', 'NED', 'RICKARD_STARK', 'LORAS', 'STEFFON', 'MYCAH', 'ROOSE_BOLTON', 'JON_ARRYN', 'LANCEL', 'MOUNTAIN', 'HOUND', 'GENDRY', 'TOBHO_MOTT', 'LITTLEFINGER', 'SYRIO_FOREL', 'JANOS', 'ARYA', 'JORY_CASSEL', 'MHAEGEN', 'MERYN_TRANT', 'RENLY', 'SANSA', 'BERIC', 'BARRISTAN', 'PYCELLE', 'CERSEI', 'AERYS', 'LYANNA', 'MARILLION', 'ILYN_PAYNE', 'JOFFREY', 'JAIME', 'VARLY', 'RHAEGAR', 'VARYS', 'TOMARD', 'STANNIS'}, {'JOYEUSE', 'JONOS_BRACKEN', 'CATELYN', 'BRAN', 'RODRIK', 'GREATJON_UMBER', 'RICKON', 'BALON', 'ROS', 'RYGER_RIVERS', 'STEVRON_FREY', 'MAESTER_LUWIN', 'GALBART_GLOVER', 'RICKARD_KARSTARK', 'ROBB', 'HODOR', 'HOSTER', 'THEON', 'OSHA', 'WALDER', 'OLD_NAN'}, {'JON', 'DAREON', 'MAESTER_AEMON', 'RAST', 'GRENN', 'BENJEN', 'JEOR', 'RANDYLL', 'OTHOR', 'MELESSA', 'BOWEN_MARSH', 'SAM', 'LUKE', 'JAREMY_RYKKER'}, {'MORD', 'MASHA_HEDDLE', 'SHAE', 'KEVAN', 'TYWIN', 'ADDAM_MARBRAND', 'VARDIS_EGEN', 'ROBIN', 'LEO_LEFFORD', 'LYSA', 'SHAGGA', 'MYRCELLA', 'TYRION', 'BRONN'}, {'WAYMAR_ROYCE'}]\n"
     ]
    }
   ],
   "source": [
    "def louvain(graph):\n",
    "    return nx.community.louvain_communities(graph, seed=123)\n",
    "\n",
    "print(louvain(G))"
   ]
  },
  {
   "cell_type": "code",
   "execution_count": 8,
   "id": "92f879e7",
   "metadata": {},
   "outputs": [
    {
     "name": "stdout",
     "output_type": "stream",
     "text": [
      "['AERYS', 'ARYA', 'BARRISTAN', 'BENJEN', 'BRAN', 'BRONN', 'CATELYN', 'CERSEI', 'DAENERYS', 'GREATJON_UMBER', 'HODOR', 'HOUND', 'ILYN_PAYNE', 'JAIME', 'JANOS', 'JEOR', 'JOFFREY', 'JON', 'JON_ARRYN', 'JORY_CASSEL', 'LANCEL', 'LITTLEFINGER', 'LORAS', 'LYSA', 'MAESTER_LUWIN', 'MARILLION', 'MERYN_TRANT', 'MORD', 'MOUNTAIN', 'MYCAH', 'NED', 'OSHA', 'PYCELLE', 'RENLY', 'ROBB', 'ROBERT', 'ROBIN', 'RODRIK', 'ROS', 'SANSA', 'STANNIS', 'THEON', 'TYRION', 'TYWIN', 'VARDIS_EGEN', 'VARYS', 'WALDER']\n"
     ]
    }
   ],
   "source": [
    "def clique_percolation(graph, k:int):\n",
    "    return nx.community.k_clique_communities(graph, k)\n",
    "\n",
    "c = list(clique_percolation(G, 5))\n",
    "print(sorted(list(c[0])))"
   ]
  },
  {
   "cell_type": "code",
   "execution_count": 9,
   "id": "7fec21d1",
   "metadata": {},
   "outputs": [
    {
     "name": "stdout",
     "output_type": "stream",
     "text": [
      "<class 'generator'>\n",
      "({'KEVAN', 'LEO_LEFFORD', 'ADDAM_MARBRAND'}, {'ROBERT', 'LORAS', 'NED', 'MYCAH', 'GREATJON_UMBER', 'JON_ARRYN', 'LANCEL', 'ROS', 'MOUNTAIN', 'HOUND', 'MAESTER_LUWIN', 'BENJEN', 'JEOR', 'LITTLEFINGER', 'ARYA', 'JANOS', 'RENLY', 'JORY_CASSEL', 'MERYN_TRANT', 'SANSA', 'JON', 'BARRISTAN', 'PYCELLE', 'BRAN', 'CERSEI', 'RODRIK', 'AERYS', 'LYANNA', 'MARILLION', 'ILYN_PAYNE', 'TYWIN', 'ROBB', 'HODOR', 'JOFFREY', 'JAIME', 'THEON', 'OSHA', 'CATELYN', 'TYRION', 'VARYS', 'STANNIS'}, {'BALON'}, {'BERIC'}, {'DAREON', 'RAST', 'GRENN', 'RANDYLL', 'BOWEN_MARSH', 'MELESSA', 'SAM', 'LUKE'}, {'MORD', 'VARDIS_EGEN', 'ROBIN', 'LYSA', 'BRONN'}, {'DAENERYS', 'IRRI', 'DROGO', 'MAGO', 'RAKHARO', 'COHOLLO', 'JHIQUI', 'DOREAH', 'VISERYS', 'RHAEGO', 'JORAH', 'ILLYRIO', 'QOTHO'}, {'GALBART_GLOVER', 'JONOS_BRACKEN'}, {'GARED'}, {'GENDRY', 'TOBHO_MOTT'}, {'JOYEUSE', 'WALDER', 'HOSTER', 'RYGER_RIVERS', 'STEVRON_FREY'}, {'LOMMY_GREENHANDS', 'HOT_PIE'}, {'JAREMY_RYKKER'}, {'MAESTER_AEMON'}, {'MASHA_HEDDLE'}, {'MHAEGEN'}, {'MYRCELLA'}, {'OLD_NAN'}, {'OTHOR'}, {'RHAEGAR'}, {'RICKARD_KARSTARK'}, {'RICKARD_STARK'}, {'RICKON'}, {'ROOSE_BOLTON'}, {'SHAE'}, {'SHAGGA'}, {'STEFFON'}, {'SYRIO_FOREL'}, {'TOMARD'}, {'TOMMEN'}, {'VARLY'}, {'WAYMAR_ROYCE'})\n"
     ]
    }
   ],
   "source": [
    "def girvan_newman(graph):\n",
    "    return nx.community.girvan_newman(graph)\n",
    "\n",
    "#Affichage du type de retour\n",
    "print(type(girvan_newman(G)))\n",
    "\n",
    "#Recuperation du dernier element\n",
    "best_elem = None\n",
    "best_mod = 0\n",
    "for set in girvan_newman(G):\n",
    "    if best_mod < nx.community.modularity(G, set, weight='weight', resolution=1):\n",
    "        best_elem = set\n",
    "        best_mod = nx.community.modularity(G, set, weight='weight', resolution=1)\n",
    "    #print(f'Set - {set}')\n",
    "print(best_elem)"
   ]
  },
  {
   "cell_type": "code",
   "execution_count": 10,
   "id": "f7e433e1",
   "metadata": {},
   "outputs": [
    {
     "name": "stdout",
     "output_type": "stream",
     "text": [
      "{'ROBERT', 'JONOS_BRACKEN', 'LORAS', 'MAESTER_AEMON', 'NED', 'RICKARD_STARK', 'TOMMEN', 'STEFFON', 'TOMARD', 'MYCAH', 'GREATJON_UMBER', 'LEO_LEFFORD', 'ROOSE_BOLTON', 'RICKON', 'JON_ARRYN', 'LANCEL', 'ROS', 'MOUNTAIN', 'HOUND', 'JAREMY_RYKKER', 'KEVAN', 'MAESTER_LUWIN', 'MORD', 'GENDRY', 'RICKARD_KARSTARK', 'ADDAM_MARBRAND', 'VARDIS_EGEN', 'BENJEN', 'JEOR', 'OTHOR', 'LITTLEFINGER', 'SYRIO_FOREL', 'TOBHO_MOTT', 'ARYA', 'JANOS', 'JORY_CASSEL', 'LYSA', 'MERYN_TRANT', 'MHAEGEN', 'RENLY', 'SANSA', 'BERIC', 'OLD_NAN', 'JON', 'MASHA_HEDDLE', 'SHAE', 'BARRISTAN', 'PYCELLE', 'BRAN', 'CERSEI', 'RODRIK', 'ROBIN', 'AERYS', 'LYANNA', 'MARILLION', 'BALON', 'SHAGGA', 'TYRION', 'ILYN_PAYNE', 'BRONN', 'GALBART_GLOVER', 'TYWIN', 'ROBB', 'HODOR', 'JOFFREY', 'JAIME', 'VARLY', 'LOMMY_GREENHANDS', 'THEON', 'OSHA', 'MYRCELLA', 'CATELYN', 'RHAEGAR', 'VARYS', 'HOT_PIE', 'STANNIS'}\n",
      "{'DAREON', 'RAST', 'GRENN', 'RANDYLL', 'MELESSA', 'BOWEN_MARSH', 'SAM', 'LUKE'}\n",
      "{'DAENERYS', 'IRRI', 'DROGO', 'JHIQUI', 'MAGO', 'COHOLLO', 'RAKHARO', 'DOREAH', 'RHAEGO', 'VISERYS', 'JORAH', 'ILLYRIO', 'QOTHO'}\n",
      "{'GARED'}\n",
      "{'JOYEUSE', 'WALDER', 'HOSTER', 'RYGER_RIVERS', 'STEVRON_FREY'}\n",
      "{'WAYMAR_ROYCE'}\n"
     ]
    }
   ],
   "source": [
    "def label_propagation(graph):\n",
    "    return nx.community.label_propagation_communities(graph)\n",
    "\n",
    "for commu in label_propagation(G):\n",
    "    print(commu)"
   ]
  },
  {
   "cell_type": "code",
   "execution_count": null,
   "id": "6fed64fc",
   "metadata": {},
   "outputs": [],
   "source": []
  },
  {
   "cell_type": "code",
   "execution_count": 11,
   "id": "f0a7b4cf",
   "metadata": {},
   "outputs": [
    {
     "name": "stdout",
     "output_type": "stream",
     "text": [
      "[<a href=\"/wiki/House_Arryn\" title=\"House Arryn\">Arryn</a>, <a href=\"#cite_note-GOT_101-4\"><span class=\"cite-bracket\">[</span>1<span class=\"cite-bracket\">]</span></a>]\n"
     ]
    }
   ],
   "source": [
    "#Etude des grandes familles\n",
    "import requests\n",
    "from bs4 import BeautifulSoup\n",
    "\n",
    "# Wikipedia page URL\n",
    "def famille(personnage_url):\n",
    "    response = requests.get(personnage_url)\n",
    "\n",
    "    # Check if the request was successful\n",
    "    if response.status_code == 200:\n",
    "        # Parse the HTML content\n",
    "        soup = BeautifulSoup(response.text, 'html.parser')\n",
    "\n",
    "        # Find the infobox table (usually has class \"infobox\")\n",
    "        infobox = soup.find('div', {'data-source': 'House'})\n",
    "        # Find all rows within the infobox\n",
    "        data = infobox.find_all('a')\n",
    "        print(data)\n",
    "    else:\n",
    "        print(\"Failed to fetch the page\")\n",
    "        \n",
    "famille('https://gameofthrones.fandom.com/wiki/Robin_Arryn')"
   ]
  },
  {
   "cell_type": "code",
   "execution_count": 16,
   "id": "565fc1c2",
   "metadata": {},
   "outputs": [
    {
     "name": "stdout",
     "output_type": "stream",
     "text": [
      "Etude des 10 noeuds les plus centraux de la saison 1\n",
      "1 : NED, 0.24325564863983642\n",
      "2 : TYRION, 0.15758960816429393\n",
      "3 : ROBERT, 0.13410473114818608\n",
      "4 : CATELYN, 0.126348651639612\n",
      "5 : ROBB, 0.09382023551844633\n",
      "6 : JON, 0.09066345148298763\n",
      "7 : DAENERYS, 0.08949182042269249\n",
      "8 : ARYA, 0.05945117568763255\n",
      "9 : JEOR, 0.05543303968571353\n",
      "10 : WALDER, 0.0400252010189189\n",
      "Etude des 10 noeuds les plus centraux de la saison 2\n",
      "1 : TYRION, 0.13338732695112687\n",
      "2 : ARYA, 0.12029226876963045\n",
      "3 : JON, 0.1100383132282045\n",
      "4 : ROBB, 0.10894588454338021\n",
      "5 : JOFFREY, 0.10530702769122366\n",
      "6 : NED, 0.1043191090561062\n",
      "7 : CATELYN, 0.07129371788091245\n",
      "8 : JAIME, 0.06569025159012155\n",
      "9 : TYWIN, 0.06145470245298122\n",
      "10 : THEON, 0.06118729399097677\n",
      "Etude des 10 noeuds les plus centraux de la saison 3\n",
      "1 : ROBB, 0.23307728474285136\n",
      "2 : NED, 0.192186991115549\n",
      "3 : ROBERT, 0.1718402157055415\n",
      "4 : BRAN, 0.1497284848191657\n",
      "5 : JON, 0.14113693415758474\n",
      "6 : TYWIN, 0.11156915452509\n",
      "7 : CATELYN, 0.11110604661010072\n",
      "8 : SAM, 0.10437863730156129\n",
      "9 : TYRION, 0.0975301564365902\n",
      "10 : DAENERYS, 0.06254701697389789\n",
      "Etude des 10 noeuds les plus centraux de la saison 4\n",
      "1 : NED, 0.18509550211808673\n",
      "2 : STANNIS, 0.18066756324582545\n",
      "3 : JOFFREY, 0.1705340962777732\n",
      "4 : JON, 0.13122441970135212\n",
      "5 : VARYS, 0.09784263750065175\n",
      "6 : ARYA, 0.09720977204969194\n",
      "7 : BARRISTAN, 0.0817205247594754\n",
      "8 : JAIME, 0.08159751917289847\n",
      "9 : MERYN_TRANT, 0.08043985837124412\n",
      "10 : TYRION, 0.07744888479649745\n",
      "Etude des 10 noeuds les plus centraux de la saison 5\n",
      "1 : STANNIS, 0.30562512245125173\n",
      "2 : CERSEI, 0.26469319649498985\n",
      "3 : LITTLEFINGER, 0.1948365444251717\n",
      "4 : SANSA, 0.1250802931057681\n",
      "5 : JON, 0.11735284639210433\n",
      "6 : ROBERT, 0.11491761903868199\n",
      "7 : JAIME, 0.11474504757596216\n",
      "8 : TYRION, 0.09995866084758018\n",
      "9 : ROOSE_BOLTON, 0.08995009248570086\n",
      "10 : ARYA, 0.0627974389097182\n",
      "Etude des 10 noeuds les plus centraux de la saison 6\n",
      "1 : SANSA, 0.2605154538188269\n",
      "2 : JON, 0.1790339052178476\n",
      "3 : TYRION, 0.14676489355173578\n",
      "4 : JAIME, 0.12329678028704187\n",
      "5 : OLENNA, 0.11945893089960885\n",
      "6 : NED, 0.11900047626993394\n",
      "7 : CERSEI, 0.1162691600375152\n",
      "8 : SAM, 0.09198899029407503\n",
      "9 : THEON, 0.08256157103938731\n",
      "10 : BRAN, 0.07383771997212381\n",
      "Etude des 10 noeuds les plus centraux de la saison 7\n",
      "1 : JON, 0.22208505478876076\n",
      "2 : CERSEI, 0.12006356991876856\n",
      "3 : SANSA, 0.09584127357499016\n",
      "4 : DAENERYS, 0.09395597242154026\n",
      "5 : TYRION, 0.0875139439172094\n",
      "6 : BRAN, 0.06579615138271296\n",
      "7 : SAM, 0.05681042165776108\n",
      "8 : THEON, 0.04935555244223432\n",
      "9 : ARYA, 0.040305427751260774\n",
      "10 : JAIME, 0.03827585789982701\n",
      "Etude des 10 noeuds les plus centraux de la saison 8\n",
      "1 : DAENERYS, 0.13528166114602622\n",
      "2 : SAM, 0.07079187226742487\n",
      "3 : BRONN, 0.06846195022849856\n",
      "4 : JON, 0.05890943258160153\n",
      "5 : VARYS, 0.05695822757836492\n",
      "6 : JAIME, 0.05173335266959547\n",
      "7 : SANSA, 0.04869196718227042\n",
      "8 : TYRION, 0.04490742549840457\n",
      "9 : BRIENNE, 0.04341279203952511\n",
      "10 : ARYA, 0.035476898392614836\n"
     ]
    },
    {
     "data": {
      "image/png": "[encoded data removed]",
      "text/plain": [
       "<Figure size 432x288 with 1 Axes>"
      ]
     },
     "metadata": {
      "needs_background": "light"
     },
     "output_type": "display_data"
    }
   ],
   "source": [
    "import matplotlib.pyplot as plt\n",
    "\n",
    "#Etude comparative au cours des saisons\n",
    "def centrality(graph):\n",
    "    return nx.centrality.betweenness_centrality(graph)\n",
    "\n",
    "def top_ten():\n",
    "    for i in range(1,9):\n",
    "\n",
    "        print(f'Etude des 10 noeuds les plus centraux de la saison {i}')\n",
    "        graph = graph_from_file(f'data-GOT-EXT/got-s{i}-nodes.csv', f'data-GOT-EXT/got-s{i}-edges.csv')\n",
    "        d = centrality(graph)\n",
    "        topten = dict(sorted(d.items(), key=lambda item: item[1], reverse = True)[:10])\n",
    "        i = 1 \n",
    "        for pers in topten:\n",
    "            print(f'{i} : {pers}, {topten[pers]}')\n",
    "            i+=1\n",
    "\n",
    "top_ten()\n",
    "\n",
    "def evolution(liste):\n",
    "    graphs_centrality = [centrality(graph_from_file(f'data-GOT-EXT/got-s{i}-nodes.csv', f'data-GOT-EXT/got-s{i}-edges.csv')) for i in range(1,9)]\n",
    "    for name in liste:\n",
    "        X = [i+1 for i in range(8)]\n",
    "        Y = [graphs_centrality[i][name] for i in range(8)]\n",
    "        plt.plot(X, Y, label=name)\n",
    "    plt.legend()\n",
    "    plt.show()\n",
    "\n",
    "evolution(['NED', 'JON', 'TYRION'])"
   ]
  },
  {
   "cell_type": "markdown",
   "id": "96304a1e-3453-4d31-b9a2-f76d243e2b77",
   "metadata": {},
   "source": [
    "## Crawling a website for additional information\n",
    "The dataset you used in the previous exercise is very interesting, but the nodes have very little information. However, we can find more information online about each character, if we follow the link assigned to each node. Each link get us to a webpage with a lot of information about this character. \n",
    "Let's crawl more information using the BeautifulSoup library that we saw last time. \n",
    "\n",
    "### Exercise\n",
    "5. Write a function that given the page of a character, gets the content of the tag meta property=\"og:description\". To understand better where the tag comes from, read about the Open Graph Protocol: https://ogp.me/\n",
    "For example, for Jon Snow we want to retrieve the following content. Note that the description might be missing for some characters. \n"
   ]
  },
  {
   "cell_type": "raw",
   "id": "f36a02f9-d12e-4cd8-b6d2-8aa1f78d66d0",
   "metadata": {},
   "source": [
    "<meta property=\"og:description\" content=\"Jon Snow, born Aegon Targaryen, is the son of Lyanna Stark and Rhaegar Targaryen, the late Prince of Dragonstone. From infancy, Jon is presented as the bastard son of Lord Eddard Stark, Lyanna's brother, and raised alongside Eddard's lawful children at Winterfell. Jon's true parentage is kept secret from everyone, including Jon himself, in order to protect him from those that sought the complete annihilation of House Targaryen. Jon joins the Night's Watch and is later elected as Lord Commander. \"/>"
   ]
  },
  {
   "cell_type": "code",
   "execution_count": 20,
   "id": "c99432f0-7b1b-4cdc-894d-59cc298549e1",
   "metadata": {},
   "outputs": [
    {
     "name": "stdout",
     "output_type": "stream",
     "text": [
      "You've got the North in you. The real North.Tormund Jon Snow, born Aegon Targaryen,[d] is the son of Lyanna Stark and Rhaegar Targaryen, the late Prince of Dragonstone. From infancy, Jon is presented as the bastard son of Lord Eddard Stark, Lyanna's brother, and raised alongside Eddard's lawful children at Winterfell. Jon's true parentage is kept secret from everyone, including Jon himself, in order to protect him from those that sought the complete annihilation of House Targaryen. Jon joins the\n"
     ]
    }
   ],
   "source": [
    "## Solution for the Exercise 5\n",
    "import requests\n",
    "from bs4 import BeautifulSoup\n",
    "\n",
    "def get_character_description(url):\n",
    "    \n",
    "    response = requests.get(url)\n",
    "    if response.status_code == 200:\n",
    "        soup = BeautifulSoup(response.text, 'html.parser')\n",
    "\n",
    "\n",
    "        meta_tag = soup.find('meta', property='og:description')\n",
    "        return meta_tag['content']\n",
    "    else:\n",
    "        print(\"Failed to fetch the page\")\n",
    "\n",
    "\n",
    "# Example usage:\n",
    "url = \"https://gameofthrones.fandom.com/wiki/Jon_Snow\"  # Replace with the actual URL of the character page\n",
    "description = get_character_description(url)\n",
    "print(description)"
   ]
  },
  {
   "cell_type": "markdown",
   "id": "a773bac4-3e00-47fb-b9e9-9d3846fbc8d8",
   "metadata": {},
   "source": [
    "### Kmeans and TFIDF\n",
    "\n",
    "We now have a data graph, let's try to run k-means on it. First let's see an example on how to do it! We will use the functions \n",
    "- TFIDF for computing a vector representation of text: https://scikit-learn.org/stable/modules/generated/sklearn.feature_extraction.text.TfidfVectorizer.html#sklearn.feature_extraction.text.TfidfVectorizer\n",
    "- kmeans for computing a clustering on the vectors obtained: https://scikit-learn.org/stable/modules/generated/sklearn.cluster.KMeans.html\n",
    "- and the silhouette score to see which value of k to choose (we pick the k that maximizes the silhouette score): https://scikit-learn.org/stable/modules/generated/sklearn.metrics.silhouette_score.html\n",
    "\n",
    "\n",
    "Check the output of the code below! First, see how the TDIDF vectors are computer, when do we have 0 in a dimension?"
   ]
  },
  {
   "cell_type": "code",
   "execution_count": null,
   "id": "e099bfdf-b64f-44af-b133-ca1a5c481768",
   "metadata": {},
   "outputs": [
    {
     "name": "stdout",
     "output_type": "stream",
     "text": [
      "['animals' 'are' 'best' 'care' 'cats' 'dogs' 'easiers' 'friend' 'human'\n",
      " 'independent' 'monkeys' 'more' 'of' 'runners' 'smart' 'take' 'to' 'very']\n",
      "[[0.50780572 0.24197214 0.         0.         0.40969445 0.\n",
      "  0.         0.         0.         0.50780572 0.         0.50780572\n",
      "  0.         0.         0.         0.         0.         0.        ]\n",
      " [0.         0.19654137 0.         0.41246413 0.33277347 0.\n",
      "  0.41246413 0.         0.         0.         0.         0.\n",
      "  0.41246413 0.         0.         0.41246413 0.41246413 0.        ]\n",
      " [0.         0.26525553 0.         0.         0.         0.\n",
      "  0.         0.         0.         0.         0.55666851 0.\n",
      "  0.         0.         0.55666851 0.         0.         0.55666851]\n",
      " [0.         0.24197214 0.50780572 0.         0.         0.40969445\n",
      "  0.         0.50780572 0.50780572 0.         0.         0.\n",
      "  0.         0.         0.         0.         0.         0.        ]\n",
      " [0.         0.34771471 0.         0.         0.         0.58873218\n",
      "  0.         0.         0.         0.         0.         0.\n",
      "  0.         0.72971837 0.         0.         0.         0.        ]]\n",
      "number of clusters: 2\n",
      "0.06976858283217532\n",
      "[0 0 0 1 1]\n",
      "number of clusters: 3\n",
      "0.08411697382825097\n",
      "[2 2 0 1 1]\n",
      "number of clusters: 4\n",
      "0.057764792846065394\n",
      "[3 2 0 1 1]\n"
     ]
    }
   ],
   "source": [
    "from sklearn.feature_extraction.text import TfidfVectorizer\n",
    "from sklearn.metrics import silhouette_samples, silhouette_score\n",
    "from sklearn.cluster import KMeans\n",
    "import numpy as np\n",
    "\n",
    "corpus = [\n",
    "\n",
    "    \"Cats are more independent animals.\",\n",
    "\n",
    "    \"Cats are easiers to take care of.\",\n",
    "\n",
    "    \"Monkeys are very smart.\",\n",
    "\n",
    "    \"Dogs are human's best friend.\",\n",
    "    \n",
    "    \"Dogs are runners.\",\n",
    "\n",
    "]\n",
    "\n",
    "vectorizer = TfidfVectorizer()\n",
    "\n",
    "X = vectorizer.fit_transform(corpus)\n",
    "\n",
    "print(vectorizer.get_feature_names_out())\n",
    "\n",
    "a = X.todense()\n",
    "print(a)\n",
    "\n",
    "\n",
    "for k in range(2,len(corpus)):\n",
    "    print(\"number of clusters: \"+ str(k))\n",
    "    kmeans = KMeans(n_clusters=k, random_state=0).fit(X)\n",
    "    print(silhouette_score(X, kmeans.labels_))\n",
    "    print(kmeans.labels_)"
   ]
  },
  {
   "cell_type": "markdown",
   "id": "8bf9a536-c994-49c8-8a14-e64e763dd843",
   "metadata": {},
   "source": [
    "### Exercise\n",
    "\n",
    "6. Run kmeans on the description of the characters, by keeping only characters for which you could retrieve a description. Find the best k using the silhouette score. "
   ]
  },
  {
   "cell_type": "code",
   "execution_count": null,
   "id": "fa722e98",
   "metadata": {},
   "outputs": [
    {
     "name": "stdout",
     "output_type": "stream",
     "text": [
      "Avec 62 clusters on a une silhouette de 0.045360437985046624\n"
     ]
    }
   ],
   "source": [
    "#KMeans on description\n",
    "#Lecture du fichier csv des noeuds\n",
    "csvfile = open('data-GOT-EXT/got-s1-nodes.csv', newline=None)\n",
    "reader = csv.DictReader(csvfile)\n",
    "corpus = []\n",
    "for row in reader:\n",
    "    corpus.append(get_character_description(row['Link']))\n",
    "csvfile.close()\n",
    "\n",
    "vectorizer = TfidfVectorizer()\n",
    "\n",
    "X = vectorizer.fit_transform(corpus)\n",
    "#print(vectorizer.get_feature_names_out())\n",
    "\n",
    "best = 0\n",
    "idx = 0\n",
    "for k in range(2,len(corpus)):\n",
    "    #print(\"number of clusters: \"+ str(k))\n",
    "    kmeans = KMeans(n_clusters=k, random_state=0).fit(X)\n",
    "    #print(silhouette_score(X, kmeans.labels_))\n",
    "    a = silhouette_score(X, kmeans.labels_)\n",
    "    if a > best:\n",
    "        best = a\n",
    "        idx = k\n",
    "    #print(kmeans.labels_)\n",
    "\n",
    "print(f'La meilleur silhouette est de {best} et s\\'obtient avec {idx} clusters')"
   ]
  },
  {
   "cell_type": "markdown",
   "id": "6de85920-ba2e-4975-9d04-fafd0754bebf",
   "metadata": {},
   "source": [
    "# Graph visualization in Python\n",
    "Now that we are more familiar with graphs, let's try to visualize them! In the past, we have used Gephi: https://github.com/gephi/gephi\n",
    "It is still an option, however, it is no longer regularly maintained. Given this, in this lab we will explore ipysigma, a visualization library created by Medialab in Sciences Po: https://github.com/medialab/ipysigma Go through the tutorial on the page of the ipysigma library.  "
   ]
  },
  {
   "cell_type": "markdown",
   "id": "dca9b472-b323-4dca-b45d-1efd1f9c77b4",
   "metadata": {},
   "source": [
    "### Citation graph visualization in ipysigma\n",
    "In networkx we can create graphs ourselves, but we can also read it from the disk - for example from a CSV file as you saw before, but also from files in the format gexf. Read more about it here: https://networkx.org/documentation/stable/reference/readwrite/gexf.html  In the TP we share a graph in this format called Decodex. It was created by Le Monde and contains information about news websites, their level of reliability and how they cite each other. For example, Le Monde is a node in this graph, with the properties seen below. The graph contains also edges with weights, with the source node being the citing website and the target note the cited website.\n",
    "\n",
    "You can find it yourself if you open the file in a text editor. You will observe that it is written in XML, a format that is similar to HTML. \n",
    "The nodes in this graph can have the reliability score of [\"Parodique\", \"Douteux\", \"Peu fiable\", \"Plutôt fiable\"] "
   ]
  },
  {
   "cell_type": "raw",
   "id": "a440a6c2-eebd-46f1-9853-82bb50d71b2e",
   "metadata": {},
   "source": [
    " <node id=\"8ecdecba-1cf2-482e-a3a4-9dd3fb3e8a32\" label=\"Le Monde\">\n",
    "        <attvalues>\n",
    "          <attvalue for=\"catégorie\" value=\"Média français\"></attvalue>\n",
    "          <attvalue for=\"attr_status\" value=\"IN\"></attvalue>\n",
    "          <attvalue for=\"attr_modification\" value=\"1498556446\"></attvalue>\n",
    "          <attvalue for=\"decodex\" value=\"4\"></attvalue>\n",
    "          <attvalue for=\"orientation contenu\" value=\"Autre ou non déterminé\"></attvalue>\n",
    "          <attvalue for=\"fiabilité\" value=\"Plutôt fiable\"></attvalue>\n",
    "          <attvalue for=\"description\" value=\"Un quotidien et site Internet d'information généraliste. Le groupe est détenu depuis 2010 par les hommes d'affaires Xavier Niel, Pierre Bergé et Matthieu Pigasse.\"></attvalue>\n",
    "          <attvalue for=\"attr_home\" value=\"http://youtube.com/channel/UCYpRDnhk5H8h16jpS84uqsA\"></attvalue>\n",
    "          <attvalue for=\"concat\" value=\"Plutôt fiable - Média français - Autre ou non déterminé\"></attvalue>\n",
    "          <attvalue for=\"synthèse\" value=\"Média français plutôt fiable\"></attvalue>\n",
    "          <attvalue for=\"fiabilité et orientation\" value=\"Plutôt fiable\"></attvalue>\n",
    "        </attvalues>\n",
    "      </node>"
   ]
  },
  {
   "cell_type": "markdown",
   "id": "4167285a-5a79-47c4-82be-670360353b5a",
   "metadata": {},
   "source": [
    "### Creating node partitions and using colors for analysis\n",
    "\n",
    "Below we show how to create a complex visualization using ipysigma. We first partition the nodes according to their reliability (fiabilité) and also we give them colors according to the same attribute. \n",
    "Then we give edges colors according to the color of the target node. We position the nodes according to the partitions they belong to.\n",
    "Like this, we can see how communities cite each other. We also set the size of the nodes to be proportional to their Pagerank score.\n",
    "Note that the library is under development and sometimes the documentation might not be sufficiently clear. Try looking if your problem is also not mentioned in the issues of the libraries on Github: https://github.com/medialab/ipysigma/issues \n",
    "If you do not see it, but think your code should still be correct according to their instructions, create a new issue!\n",
    "\n",
    "Note that you can click on nodes in the ipysigma visualization."
   ]
  },
  {
   "cell_type": "code",
   "execution_count": null,
   "id": "548b8057-f108-4a05-911b-48f000852487",
   "metadata": {},
   "outputs": [],
   "source": [
    "# Importing a gexf graph\n",
    "g = nx.read_gexf('./Decodex.gexf')\n",
    "fiabilite_categories = [\"Parodique\", \"Douteux\", \"Peu fiable\", \"Plutôt fiable\"]\n",
    "colors = {\n",
    "    \"Peu fiable\": \"#E74C3C\",       # Red\n",
    "    \"Douteux\": \"#F1C40F\",    # Yellow\n",
    "    \"Parodique\": \"#2ECC71\",      # Green\n",
    "    \"Plutôt fiable\": \"#3498DB\",  # Blue\n",
    "    \"Unknown\": \"#95A5A6\"\n",
    "    \n",
    "}\n",
    "\n",
    "partitions = {\"Parodique\": [], \"Douteux\": [], \"Peu fiable\": [], \"Plutôt fiable\": []}\n",
    "\n",
    "# Assign colors based on 'fiabilité' attribute (if it exists)\n",
    "for node in g.nodes:\n",
    "    fiabilite = g.nodes[node].get(\"fiabilité\", \"Unknown\")  # Default to \"medium\"\n",
    "    g.nodes[node][\"color_node\"] = colors.get(fiabilite, \"#95A5A6\")  # Gray if unknown\n",
    "    g.nodes[node][\"size\"] = 10  # Set a default size\n",
    "    partitions[fiabilite].append(node)\n",
    "\n",
    "\n",
    "# Assign edge colors based on the target node’s color\n",
    "for source, target in g.edges:\n",
    "    g.edges[source, target][\"color_edge\"] = g.nodes[target][\"color_node\"]\n",
    "\n",
    "\n",
    "layout = {}\n",
    "grid_positions = {\n",
    "    \"Peu fiable\": (-2, -2),\n",
    "     \"Douteux\": (-2, 2),\n",
    "    \"Parodique\": (2, -2),\n",
    "    \"Plutôt fiable\": (2, 2)\n",
    "}\n",
    "\n",
    "for category, nodes in partitions.items():\n",
    "    base_x, base_y = grid_positions[category]\n",
    "    angle_step = 2 * np.pi / max(1, len(nodes)) \n",
    "    radius = 1.5  # Spread out the nodes\n",
    "\n",
    "    for i, node in enumerate(nodes):\n",
    "        angle = i * angle_step\n",
    "        layout[node] = {\n",
    "            \"x\": base_x + radius * np.cos(angle),\n",
    "            \"y\": base_y + radius * np.sin(angle)\n",
    "        }\n",
    "\n",
    "# Visualize with ipysigma\n",
    "sigma = Sigma(\n",
    "    g,\n",
    "    raw_node_color=\"color_node\",\n",
    "    raw_edge_color=\"color_edge\",\n",
    "    layout=layout,\n",
    "    node_label=\"label\",\n",
    "    default_edge_type=\"curve\",\n",
    "    node_border_color_from=\"node\",\n",
    "    label_font=\"cursive\",\n",
    "    node_size=nx.pagerank(g)\n",
    ")\n",
    "\n",
    "sigma"
   ]
  },
  {
   "cell_type": "markdown",
   "id": "5a00ffb5-eac6-404f-9610-e812c25b9a56",
   "metadata": {},
   "source": [
    "### Exercises\n",
    "7. How do reliable sources of information interact with untrusted sources in the Decoders graph, who is citing whom? \n",
    "Give a short explanation based on the above visualization.\n",
    "8. How do the types of information sources interact with each other in the Decoders graph? To observe this, create a similar visualization as the above, but this type using the attribute \"catégorie\".\n",
    "9. How does the citation network look like when we consider the political orientation of the websites? For this use the attribute \"orientation contenu\".\n",
    "10. How does the citation network look like when we use finer partitions, for examples partitions where we have two dimensions, the reliability of the content and the political orientation?"
   ]
  },
  {
   "cell_type": "code",
   "execution_count": null,
   "id": "4ba594de-8582-4500-8678-6c4b3b656a5b",
   "metadata": {},
   "outputs": [],
   "source": [
    "# Solutions for the exercises above"
   ]
  },
  {
   "cell_type": "markdown",
   "id": "0e3bbdbf-c389-4e1c-9d06-9bc4ee4372df",
   "metadata": {},
   "source": [
    "\n",
    "## Read a research article that investigates the potential of using modularity to detect polarization\n",
    "\n",
    "You will find on Moodle a research article published at the conference ICWSM https://www.icwsm.org/2025/index.html\n",
    "Take the time to read it and see how researchers test ideas on real applications and propose new metrics when they consider existing tools are not sufficient. In your project you will also have to investigate your hypothesis on the data of your choice! \n",
    "\n",
    "11. After reading the article, implement the notion of boundary described. Apply it on one of the graphs you have seen so far in this class, or on one graph from here (choose smaller graphs for efficiency): http://snap.stanford.edu/data/index.html\n"
   ]
  },
  {
   "cell_type": "code",
   "execution_count": null,
   "id": "cf3625e6-7e53-47ea-aca6-9048046dc909",
   "metadata": {},
   "outputs": [],
   "source": [
    "# Solution for exercise 10"
   ]
  }
 ],
 "metadata": {
  "kernelspec": {
   "display_name": "Python 3",
   "language": "python",
   "name": "python3"
  },
  "language_info": {
   "codemirror_mode": {
    "name": "ipython",
    "version": 3
   },
   "file_extension": ".py",
   "mimetype": "text/x-python",
   "name": "python",
   "nbconvert_exporter": "python",
   "pygments_lexer": "ipython3",
   "version": "3.10.12"
  }
 },
 "nbformat": 4,
 "nbformat_minor": 5
}
