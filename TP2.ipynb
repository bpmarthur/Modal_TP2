{
 "cells": [
  {
   "cell_type": "markdown",
   "id": "b358ca1d-39a9-4137-b178-971b768d8ead",
   "metadata": {},
   "source": [
    "# Lab 2: Graph visualization in Python\n",
    "\n",
    "\n",
    "## Installing libraries then restarting jupyter\n",
    "\n",
    "Before starting the lab, please install the following libraries: ipysigma, networkx, numpy, scikit-learn. \n",
    "\n",
    "After restart jupyter and continue the lab.\n",
    "\n",
    "## Graph library in Python: NetworkX\n",
    "We have seen many community detection algorithms today! Let's\n",
    "test them on a real graph. \n",
    "\n",
    "1. Please check this tutorial and try to make a simple graph: https://networkx.org/documentation/stable/tutorial.html"
   ]
  },
  {
   "cell_type": "code",
   "execution_count": 2,
   "id": "1257ad2f-2d94-4a52-9d47-391af048189b",
   "metadata": {},
   "outputs": [],
   "source": [
    "import networkx as nx\n",
    "from ipysigma import Sigma\n",
    "import numpy as np"
   ]
  },
  {
   "cell_type": "code",
   "execution_count": null,
   "id": "75479fc6-314e-4657-abe0-264f7d821741",
   "metadata": {},
   "outputs": [
    {
     "name": "stdout",
     "output_type": "stream",
     "text": [
      "[0, 1, 2, 3, 4]\n",
      "[(0, 1), (1, 2), (1, 3), (1, 4), (2, 3), (2, 4), (3, 4)]\n"
     ]
    }
   ],
   "source": [
    "# Exercise 1: Construct a simple graph of 5 nodes and connect those 5 nodes with 7 edges.\n",
    "\n",
    "#Adding Vertices\n",
    "G = nx.Graph()\n",
    "G.add_nodes_from([0, 1, 2, 3])\n",
    "G.add_node(4)\n",
    "\n",
    "#Adding Edges\n",
    "G.add_edges_from([(1, 2), (1, 3), (2, 3), (1, 4), (2, 4), (3, 4)])\n",
    "G.add_edge(0, 1)\n",
    "#e = (1, 2)\n",
    "#G.add_edge(*e)  # unpack edge tuple*\n",
    "\n",
    "#Using the graph\n",
    "print(list(G.nodes))\n",
    "print(list(G.edges))"
   ]
  },
  {
   "cell_type": "markdown",
   "id": "3c238e60-e7b3-43a8-89c0-76f98ca14cc1",
   "metadata": {},
   "source": [
    "### Game of Thrones character interaction\n",
    "You will find in the TP archive a dataset about the interaction of the characters in Game of Thrones, per season. Create a NetworkX graph from one of the seasons (e.g. season 1), adding also the weight of edges. Check if you have created if you created correctly the graph, for example like this:\n",
    "\n",
    "print(G.number_of_nodes())\n",
    "\n",
    "print(G.number_of_edges())\n",
    "\n",
    "print(G.adj['NED']) # for the first season\n",
    "\n",
    "For reading or writing a csv file, you can use the python csv library we saw last time.\n"
   ]
  },
  {
   "cell_type": "code",
   "execution_count": 7,
   "id": "77f0df24",
   "metadata": {},
   "outputs": [
    {
     "name": "stdout",
     "output_type": "stream",
     "text": [
      "[1, 2]\n",
      "[(1, 2)]\n"
     ]
    }
   ],
   "source": [
    "G = nx.Graph([(1, 2, {\"color\": \"yellow\"})])\n",
    "print(list(G.nodes))\n",
    "print(list(G.edges))"
   ]
  },
  {
   "cell_type": "code",
   "execution_count": 11,
   "id": "522c0881-6cfa-4695-ba22-0211cc3c883c",
   "metadata": {},
   "outputs": [
    {
     "name": "stdout",
     "output_type": "stream",
     "text": [
      "['ADDAM_MARBRAND', 'AERYS', 'ARYA', 'BALON', 'BARRISTAN', 'BENJEN', 'BERIC', 'BOWEN_MARSH', 'BRAN', 'BRONN', 'CATELYN', 'CERSEI', 'COHOLLO', 'DAENERYS', 'DAREON', 'DOREAH', 'DROGO', 'GALBART_GLOVER', 'GARED', 'GENDRY', 'GREATJON_UMBER', 'GRENN', 'HODOR', 'HOSTER', 'HOT_PIE', 'HOUND', 'ILLYRIO', 'ILYN_PAYNE', 'IRRI', 'JAIME', 'JANOS', 'JAREMY_RYKKER', 'JEOR', 'JHIQUI', 'JOFFREY', 'JON', 'JON_ARRYN', 'JONOS_BRACKEN', 'JORAH', 'JORY_CASSEL', 'JOYEUSE', 'KEVAN', 'LANCEL', 'LEO_LEFFORD', 'LITTLEFINGER', 'LOMMY_GREENHANDS', 'LORAS', 'LUKE', 'LYANNA', 'LYSA', 'MAESTER_AEMON', 'MAESTER_LUWIN', 'MAGO', 'MARILLION', 'MASHA_HEDDLE', 'MELESSA', 'MERYN_TRANT', 'MHAEGEN', 'MORD', 'MOUNTAIN', 'MYCAH', 'MYRCELLA', 'NED', 'OLD_NAN', 'OSHA', 'OTHOR', 'PYCELLE', 'QOTHO', 'RAKHARO', 'RANDYLL', 'RAST', 'RENLY', 'RHAEGAR', 'RHAEGO', 'RICKARD_KARSTARK', 'RICKARD_STARK', 'RICKON', 'ROBB', 'ROBERT', 'ROBIN', 'RODRIK', 'ROOSE_BOLTON', 'ROS', 'RYGER_RIVERS', 'SAM', 'SANSA', 'SHAE', 'SHAGGA', 'STANNIS', 'STEFFON', 'STEVRON_FREY', 'SYRIO_FOREL', 'THEON', 'TOBHO_MOTT', 'TOMARD', 'TOMMEN', 'TYRION', 'TYWIN', 'VARDIS_EGEN', 'VARLY', 'VARYS', 'VISERYS', 'WALDER', 'WAYMAR_ROYCE']\n",
      "[('ADDAM_MARBRAND', 'KEVAN'), ('ADDAM_MARBRAND', 'LEO_LEFFORD'), ('ADDAM_MARBRAND', 'TYWIN'), ('AERYS', 'NED'), ('AERYS', 'ROBERT'), ('AERYS', 'RICKARD_STARK'), ('AERYS', 'JAIME'), ('AERYS', 'RHAEGAR'), ('AERYS', 'BARRISTAN'), ('AERYS', 'CATELYN'), ('AERYS', 'JORAH'), ('AERYS', 'MAESTER_AEMON'), ('AERYS', 'RENLY'), ('AERYS', 'SANSA'), ('ARYA', 'NED'), ('ARYA', 'SANSA'), ('ARYA', 'SYRIO_FOREL'), ('ARYA', 'JOFFREY'), ('ARYA', 'JON'), ('ARYA', 'ROBERT'), ('ARYA', 'CERSEI'), ('ARYA', 'CATELYN'), ('ARYA', 'GENDRY'), ('ARYA', 'HOUND'), ('ARYA', 'JORY_CASSEL'), ('ARYA', 'VARYS'), ('ARYA', 'ROBB'), ('ARYA', 'BRAN'), ('ARYA', 'HOT_PIE'), ('ARYA', 'LITTLEFINGER'), ('ARYA', 'MERYN_TRANT'), ('ARYA', 'MYCAH'), ('ARYA', 'ILYN_PAYNE'), ('ARYA', 'JAIME'), ('ARYA', 'PYCELLE'), ('ARYA', 'ILLYRIO'), ('ARYA', 'LOMMY_GREENHANDS'), ('ARYA', 'TYRION'), ('BALON', 'THEON'), ('BALON', 'TYRION'), ('BARRISTAN', 'NED'), ('BARRISTAN', 'ROBERT'), ('BARRISTAN', 'CERSEI'), ('BARRISTAN', 'VARYS'), ('BARRISTAN', 'JOFFREY'), ('BARRISTAN', 'JAIME'), ('BARRISTAN', 'LITTLEFINGER'), ('BARRISTAN', 'PYCELLE'), ('BARRISTAN', 'LANCEL'), ('BARRISTAN', 'RENLY'), ('BENJEN', 'JON'), ('BENJEN', 'TYRION'), ('BENJEN', 'NED'), ('BENJEN', 'ROBB'), ('BENJEN', 'CATELYN'), ('BENJEN', 'CERSEI'), ('BENJEN', 'JEOR'), ('BENJEN', 'ROBERT'), ('BERIC', 'NED'), ('BERIC', 'ROBERT'), ('BOWEN_MARSH', 'DAREON'), ('BRAN', 'MAESTER_LUWIN'), ('BRAN', 'ROBB'), ('BRAN', 'NED'), ('BRAN', 'OSHA'), ('BRAN', 'CATELYN'), ('BRAN', 'THEON'), ('BRAN', 'JON'), ('BRAN', 'TYRION'), ('BRAN', 'RICKON'), ('BRAN', 'HODOR'), ('BRAN', 'JAIME'), ('BRAN', 'OLD_NAN'), ('BRAN', 'ROBERT'), ('BRAN', 'RODRIK'), ('BRAN', 'CERSEI'), ('BRAN', 'HOUND'), ('BRONN', 'TYRION'), ('BRONN', 'SHAE'), ('BRONN', 'CATELYN'), ('BRONN', 'RODRIK'), ('BRONN', 'LYSA'), ('BRONN', 'SHAGGA'), ('BRONN', 'TYWIN'), ('BRONN', 'VARDIS_EGEN'), ('BRONN', 'MORD'), ('BRONN', 'ROBIN'), ('BRONN', 'KEVAN'), ('BRONN', 'MARILLION'), ('CATELYN', 'ROBB'), ('CATELYN', 'NED'), ('CATELYN', 'TYRION'), ('CATELYN', 'WALDER'), ('CATELYN', 'LYSA'), ('CATELYN', 'JAIME'), ('CATELYN', 'RODRIK'), ('CATELYN', 'LITTLEFINGER'), ('CATELYN', 'MAESTER_LUWIN'), ('CATELYN', 'CERSEI'), ('CATELYN', 'THEON'), ('CATELYN', 'ROBERT'), ('CATELYN', 'JON'), ('CATELYN', 'SANSA'), ('CATELYN', 'VARDIS_EGEN'), ('CATELYN', 'GREATJON_UMBER'), ('CATELYN', 'VARYS'), ('CATELYN', 'ROBIN'), ('CATELYN', 'MORD'), ('CATELYN', 'JON_ARRYN'), ('CATELYN', 'MARILLION'), ('CATELYN', 'TYWIN'), ('CATELYN', 'HOSTER'), ('CATELYN', 'JOFFREY'), ('CATELYN', 'MASHA_HEDDLE'), ('CATELYN', 'DAENERYS'), ('CATELYN', 'HOUND'), ('CATELYN', 'STEVRON_FREY'), ('CERSEI', 'NED'), ('CERSEI', 'ROBERT'), ('CERSEI', 'JOFFREY'), ('CERSEI', 'JAIME'), ('CERSEI', 'SANSA'), ('CERSEI', 'TYRION'), ('CERSEI', 'VARYS'), ('CERSEI', 'PYCELLE'), ('CERSEI', 'LITTLEFINGER'), ('CERSEI', 'ROBB'), ('CERSEI', 'HOUND'), ('CERSEI', 'ILYN_PAYNE'), ('CERSEI', 'JON'), ('CERSEI', 'JON_ARRYN'), ('CERSEI', 'LANCEL'), ('CERSEI', 'RENLY'), ('CERSEI', 'TYWIN'), ('CERSEI', 'JEOR'), ('CERSEI', 'LYANNA'), ('CERSEI', 'MERYN_TRANT'), ('CERSEI', 'ROS'), ('CERSEI', 'STANNIS'), ('COHOLLO', 'DROGO'), ('DAENERYS', 'JORAH'), ('DAENERYS', 'DROGO'), ('DAENERYS', 'VISERYS'), ('DAENERYS', 'DOREAH'), ('DAENERYS', 'IRRI'), ('DAENERYS', 'QOTHO'), ('DAENERYS', 'RAKHARO'), ('DAENERYS', 'RHAEGO'), ('DAENERYS', 'ILLYRIO'), ('DAENERYS', 'MAGO'), ('DAENERYS', 'ROBERT'), ('DAENERYS', 'VARYS'), ('DAENERYS', 'NED'), ('DAENERYS', 'JHIQUI'), ('DAENERYS', 'SANSA'), ('DAREON', 'JON'), ('DAREON', 'SAM'), ('DAREON', 'GRENN'), ('DAREON', 'JEOR'), ('DAREON', 'LUKE'), ('DAREON', 'MAESTER_AEMON'), ('DAREON', 'RAST'), ('DOREAH', 'VISERYS'), ('DOREAH', 'IRRI'), ('DOREAH', 'DROGO'), ('DOREAH', 'JHIQUI'), ('DOREAH', 'JORAH'), ('DROGO', 'VISERYS'), ('DROGO', 'JORAH'), ('DROGO', 'MAGO'), ('DROGO', 'ILLYRIO'), ('DROGO', 'QOTHO'), ('DROGO', 'RHAEGO'), ('DROGO', 'RAKHARO'), ('DROGO', 'IRRI'), ('DROGO', 'ROBERT'), ('GALBART_GLOVER', 'GREATJON_UMBER'), ('GALBART_GLOVER', 'JONOS_BRACKEN'), ('GALBART_GLOVER', 'ROBB'), ('GENDRY', 'NED'), ('GENDRY', 'TOBHO_MOTT'), ('GENDRY', 'HOT_PIE'), ('GENDRY', 'VARYS'), ('GREATJON_UMBER', 'ROBB'), ('GREATJON_UMBER', 'THEON'), ('GREATJON_UMBER', 'RODRIK'), ('GREATJON_UMBER', 'JAIME'), ('GREATJON_UMBER', 'TYWIN'), ('GREATJON_UMBER', 'NED'), ('GREATJON_UMBER', 'RENLY'), ('GREATJON_UMBER', 'RICKARD_KARSTARK'), ('GREATJON_UMBER', 'STANNIS'), ('GREATJON_UMBER', 'WALDER'), ('GRENN', 'JON'), ('GRENN', 'SAM'), ('GRENN', 'RAST'), ('GRENN', 'TYRION'), ('GRENN', 'JEOR'), ('HODOR', 'ROBB'), ('HODOR', 'THEON'), ('HODOR', 'TYRION'), ('HODOR', 'OSHA'), ('HOSTER', 'WALDER'), ('HOT_PIE', 'LOMMY_GREENHANDS'), ('HOUND', 'SANSA'), ('HOUND', 'JOFFREY'), ('HOUND', 'NED'), ('HOUND', 'TYRION'), ('HOUND', 'MERYN_TRANT'), ('HOUND', 'ROBERT'), ('HOUND', 'LITTLEFINGER'), ('HOUND', 'MOUNTAIN'), ('HOUND', 'LORAS'), ('HOUND', 'ILYN_PAYNE'), ('HOUND', 'JAIME'), ('HOUND', 'ROBB'), ('ILLYRIO', 'VISERYS'), ('ILLYRIO', 'VARYS'), ('ILLYRIO', 'JORAH'), ('ILYN_PAYNE', 'JOFFREY'), ('ILYN_PAYNE', 'NED'), ('ILYN_PAYNE', 'SANSA'), ('ILYN_PAYNE', 'MERYN_TRANT'), ('ILYN_PAYNE', 'VARYS'), ('IRRI', 'RAKHARO'), ('IRRI', 'JORAH'), ('IRRI', 'JHIQUI'), ('IRRI', 'VISERYS'), ('JAIME', 'NED'), ('JAIME', 'TYRION'), ('JAIME', 'TYWIN'), ('JAIME', 'JORY_CASSEL'), ('JAIME', 'ROBERT'), ('JAIME', 'JON'), ('JAIME', 'ROBB'), ('JAIME', 'JOFFREY'), ('JAIME', 'KEVAN'), ('JAIME', 'LITTLEFINGER'), ('JAIME', 'ROS'), ('JAIME', 'THEON'), ('JAIME', 'JON_ARRYN'), ('JAIME', 'RICKARD_STARK'), ('JAIME', 'SANSA'), ('JANOS', 'NED'), ('JANOS', 'VARYS'), ('JANOS', 'RENLY'), ('JANOS', 'LITTLEFINGER'), ('JANOS', 'PYCELLE'), ('JAREMY_RYKKER', 'JEOR'), ('JEOR', 'JON'), ('JEOR', 'SAM'), ('JEOR', 'TYRION'), ('JEOR', 'MAESTER_AEMON'), ('JEOR', 'OTHOR'), ('JEOR', 'NED'), ('JEOR', 'ROBERT'), ('JEOR', 'JOFFREY'), ('JOFFREY', 'SANSA'), ('JOFFREY', 'NED'), ('JOFFREY', 'ROBERT'), ('JOFFREY', 'TYRION'), ('JOFFREY', 'VARYS'), ('JOFFREY', 'MARILLION'), ('JOFFREY', 'PYCELLE'), ('JOFFREY', 'LITTLEFINGER'), ('JOFFREY', 'MERYN_TRANT'), ('JOFFREY', 'ROBB'), ('JOFFREY', 'MYCAH'), ('JOFFREY', 'RENLY'), ('JOFFREY', 'TYWIN'), ('JOFFREY', 'JON'), ('JOFFREY', 'TOMMEN'), ('JON', 'SAM'), ('JON', 'TYRION'), ('JON', 'NED'), ('JON', 'MAESTER_AEMON'), ('JON', 'ROBB'), ('JON', 'RAST'), ('JON', 'THEON'), ('JON', 'OTHOR'), ('JON', 'ROBERT'), ('JON', 'RODRIK'), ('JON', 'ROS'), ('JON_ARRYN', 'NED'), ('JON_ARRYN', 'ROBERT'), ('JON_ARRYN', 'LITTLEFINGER'), ('JON_ARRYN', 'LYSA'), ('JON_ARRYN', 'PYCELLE'), ('JON_ARRYN', 'ROBIN'), ('JON_ARRYN', 'VARYS'), ('JONOS_BRACKEN', 'ROBB'), ('JORAH', 'VISERYS'), ('JORAH', 'RAKHARO'), ('JORAH', 'QOTHO'), ('JORAH', 'RHAEGO'), ('JORAH', 'NED'), ('JORAH', 'VARYS'), ('JORY_CASSEL', 'NED'), ('JORY_CASSEL', 'LITTLEFINGER'), ('JORY_CASSEL', 'ROBERT'), ('JORY_CASSEL', 'MHAEGEN'), ('JORY_CASSEL', 'THEON'), ('JOYEUSE', 'WALDER'), ('KEVAN', 'TYRION'), ('KEVAN', 'TYWIN'), ('KEVAN', 'LEO_LEFFORD'), ('KEVAN', 'SHAGGA'), ('LANCEL', 'ROBERT'), ('LANCEL', 'NED'), ('LANCEL', 'RENLY'), ('LEO_LEFFORD', 'TYRION'), ('LITTLEFINGER', 'NED'), ('LITTLEFINGER', 'VARYS'), ('LITTLEFINGER', 'SANSA'), ('LITTLEFINGER', 'PYCELLE'), ('LITTLEFINGER', 'ROS'), ('LITTLEFINGER', 'RENLY'), ('LITTLEFINGER', 'ROBERT'), ('LITTLEFINGER', 'MOUNTAIN'), ('LITTLEFINGER', 'TYRION'), ('LITTLEFINGER', 'TYWIN'), ('LITTLEFINGER', 'STANNIS'), ('LITTLEFINGER', 'LORAS'), ('LITTLEFINGER', 'MHAEGEN'), ('LORAS', 'RENLY'), ('LORAS', 'MOUNTAIN'), ('LORAS', 'NED'), ('LORAS', 'SANSA'), ('LORAS', 'ROBERT'), ('LYANNA', 'NED'), ('LYANNA', 'ROBERT'), ('LYSA', 'ROBIN'), ('LYSA', 'TYRION'), ('LYSA', 'VARDIS_EGEN'), ('LYSA', 'MORD'), ('MAESTER_AEMON', 'TYRION'), ('MAESTER_AEMON', 'SAM'), ('MAESTER_LUWIN', 'ROBB'), ('MAESTER_LUWIN', 'THEON'), ('MAESTER_LUWIN', 'OSHA'), ('MAESTER_LUWIN', 'TYRION'), ('MAESTER_LUWIN', 'NED'), ('MAESTER_LUWIN', 'ROBERT'), ('MAESTER_LUWIN', 'RODRIK'), ('MAESTER_LUWIN', 'SANSA'), ('MARILLION', 'RODRIK'), ('MARILLION', 'TYRION'), ('MARILLION', 'MERYN_TRANT'), ('MASHA_HEDDLE', 'TYRION'), ('MELESSA', 'SAM'), ('MERYN_TRANT', 'SYRIO_FOREL'), ('MERYN_TRANT', 'SANSA'), ('MERYN_TRANT', 'NED'), ('MHAEGEN', 'NED'), ('MORD', 'TYRION'), ('MORD', 'ROBIN'), ('MORD', 'VARDIS_EGEN'), ('MORD', 'RODRIK'), ('MOUNTAIN', 'NED'), ('MOUNTAIN', 'ROBERT'), ('MOUNTAIN', 'SANSA'), ('MYCAH', 'SANSA'), ('MYCAH', 'NED'), ('MYRCELLA', 'TYRION'), ('NED', 'ROBERT'), ('NED', 'VARYS'), ('NED', 'PYCELLE'), ('NED', 'SANSA'), ('NED', 'RENLY'), ('NED', 'ROBB'), ('NED', 'THEON'), ('NED', 'TYRION'), ('NED', 'TYWIN'), ('NED', 'RODRIK'), ('NED', 'STANNIS'), ('NED', 'TOBHO_MOTT'), ('NED', 'SYRIO_FOREL'), ('NED', 'TOMARD'), ('NED', 'RICKARD_STARK'), ('NED', 'ROOSE_BOLTON'), ('NED', 'ROS'), ('NED', 'STEFFON'), ('NED', 'VARLY'), ('OLD_NAN', 'ROBB'), ('OLD_NAN', 'THEON'), ('OSHA', 'THEON'), ('OSHA', 'ROBB'), ('OSHA', 'RICKON'), ('OTHOR', 'SAM'), ('PYCELLE', 'VARYS'), ('PYCELLE', 'SANSA'), ('PYCELLE', 'ROBERT'), ('PYCELLE', 'ROS'), ('PYCELLE', 'RENLY'), ('PYCELLE', 'TYWIN'), ('QOTHO', 'RAKHARO'), ('RAKHARO', 'VISERYS'), ('RANDYLL', 'SAM'), ('RAST', 'SAM'), ('RAST', 'TYRION'), ('RENLY', 'ROBERT'), ('RENLY', 'STANNIS'), ('RENLY', 'VARYS'), ('RENLY', 'SANSA'), ('RENLY', 'ROBB'), ('RENLY', 'TOMARD'), ('RHAEGAR', 'ROBERT'), ('RHAEGO', 'VISERYS'), ('RICKARD_KARSTARK', 'ROBB'), ('RICKARD_KARSTARK', 'THEON'), ('RICKON', 'ROBB'), ('ROBB', 'THEON'), ('ROBB', 'TYRION'), ('ROBB', 'RODRIK'), ('ROBB', 'SANSA'), ('ROBB', 'ROBERT'), ('ROBB', 'TYWIN'), ('ROBB', 'WALDER'), ('ROBB', 'STANNIS'), ('ROBB', 'VARYS'), ('ROBERT', 'SANSA'), ('ROBERT', 'VARYS'), ('ROBERT', 'TYWIN'), ('ROBERT', 'TYRION'), ('ROBERT', 'VISERYS'), ('ROBERT', 'STANNIS'), ('ROBERT', 'ROS'), ('ROBERT', 'TOMMEN'), ('ROBIN', 'TYRION'), ('ROBIN', 'VARDIS_EGEN'), ('RODRIK', 'TYRION'), ('RODRIK', 'THEON'), ('RODRIK', 'TYWIN'), ('ROS', 'THEON'), ('ROS', 'TYRION'), ('RYGER_RIVERS', 'WALDER'), ('SANSA', 'VARYS'), ('SANSA', 'STANNIS'), ('SHAE', 'TYRION'), ('SHAE', 'TYWIN'), ('SHAGGA', 'TYRION'), ('SHAGGA', 'TYWIN'), ('STANNIS', 'TOMARD'), ('STEVRON_FREY', 'WALDER'), ('THEON', 'TYRION'), ('THEON', 'WALDER'), ('TYRION', 'TYWIN'), ('TYRION', 'VARDIS_EGEN'), ('TYRION', 'VARYS')]\n",
      "104\n",
      "449\n",
      "{'ROBERT': {'weight': '192'}, 'LITTLEFINGER': {'weight': '107'}, 'VARYS': {'weight': '96'}, 'ARYA': {'weight': '90'}, 'CERSEI': {'weight': '86'}, 'CATELYN': {'weight': '69'}, 'PYCELLE': {'weight': '68'}, 'JAIME': {'weight': '53'}, 'SANSA': {'weight': '49'}, 'JORY_CASSEL': {'weight': '44'}, 'JOFFREY': {'weight': '39'}, 'RENLY': {'weight': '30'}, 'BRAN': {'weight': '29'}, 'JON': {'weight': '29'}, 'BARRISTAN': {'weight': '25'}, 'ROBB': {'weight': '23'}, 'BENJEN': {'weight': '14'}, 'JANOS': {'weight': '13'}, 'THEON': {'weight': '13'}, 'GENDRY': {'weight': '12'}, 'JON_ARRYN': {'weight': '12'}, 'TYRION': {'weight': '11'}, 'TYWIN': {'weight': '11'}, 'HOUND': {'weight': '10'}, 'RODRIK': {'weight': '10'}, 'STANNIS': {'weight': '10'}, 'TOBHO_MOTT': {'weight': '10'}, 'MHAEGEN': {'weight': '9'}, 'AERYS': {'weight': '8'}, 'SYRIO_FOREL': {'weight': '6'}, 'TOMARD': {'weight': '6'}, 'MAESTER_LUWIN': {'weight': '5'}, 'MOUNTAIN': {'weight': '5'}, 'ILYN_PAYNE': {'weight': '4'}, 'LANCEL': {'weight': '4'}, 'LORAS': {'weight': '4'}, 'LYANNA': {'weight': '4'}, 'RICKARD_STARK': {'weight': '4'}, 'BERIC': {'weight': '3'}, 'DAENERYS': {'weight': '3'}, 'JEOR': {'weight': '3'}, 'MERYN_TRANT': {'weight': '3'}, 'MYCAH': {'weight': '3'}, 'GREATJON_UMBER': {'weight': '2'}, 'JORAH': {'weight': '2'}, 'ROOSE_BOLTON': {'weight': '2'}, 'ROS': {'weight': '2'}, 'STEFFON': {'weight': '2'}, 'VARLY': {'weight': '2'}}\n"
     ]
    }
   ],
   "source": [
    "# Create the Game of Thrones graph from the csv files\n",
    "import csv\n",
    "\n",
    "def graph_from_file(filename_node, filename_edge):\n",
    "\n",
    "    #Creation du graphe\n",
    "    G = nx.Graph()\n",
    "\n",
    "    #Lecture du fichier csv des noeuds\n",
    "    csvfile = open(filename_node, newline=None)\n",
    "    reader = csv.DictReader(csvfile)\n",
    "    for row in reader:\n",
    "        G.add_node(row['Id'], label = row['Label'], link= row['Link'])\n",
    "    csvfile.close()\n",
    "\n",
    "    #Lecture du fichier csv des edges\n",
    "    csvfile = open(filename_edge, newline=None)\n",
    "    reader = csv.DictReader(csvfile)\n",
    "    for row in reader:\n",
    "        G.add_edge(row['Source'], row['Target'], weight= row['Weight'])\n",
    "    csvfile.close()\n",
    "\n",
    "    return G\n",
    "\n",
    "G = graph_from_file(\"data-GOT-EXT/got-s1-nodes.csv\", \"data-GOT-EXT/got-s1-edges.csv\")\n",
    "print(list(G.nodes))\n",
    "print(list(G.edges))\n",
    "\n",
    "print(G.number_of_nodes())\n",
    "print(G.number_of_edges())\n",
    "print(G.adj['NED']) # for the first season"
   ]
  },
  {
   "cell_type": "markdown",
   "id": "b46eaf52-5d8d-4740-96f1-ec49f104404e",
   "metadata": {},
   "source": [
    "#### Exercises\n",
    "\n",
    "\n",
    "Do the following exercises. Note that if you find the results a bit difficult to evaluate, you can remove less important nodes from the graph (such as nodes that interact with the least amount of other characters).\n",
    "\n",
    "2. Compute communities using:\n",
    "- the Louvain algorithm https://networkx.org/documentation/stable/reference/algorithms/generated/networkx.algorithms.community.louvain.louvain_communities.html, \n",
    "- clique percolation https://networkx.org/documentation/stable/reference/algorithms/generated/networkx.algorithms.community.kclique.k_clique_communities.html (experiment with different k values)\n",
    "- the Girvan Newman algorithm https://networkx.org/documentation/stable/reference/algorithms/generated/networkx.algorithms.community.centrality.girvan_newman.html\n",
    "- and label propagation https://networkx.org/documentation/stable/reference/algorithms/generated/networkx.algorithms.community.label_propagation.label_propagation_communities.html\n",
    "3. We could suppose that there is a link between the house of the character (its family) and the community it belongs to. Do we observe this pattern in the previous communities? For this, we can check what are the great houses https://gameofthrones.fandom.com/wiki/Great_House .  \n",
    "4. Create a new graph per season and retrieve the top 10 nodes according to a node centrality measure https://networkx.org/documentation/stable/reference/algorithms/centrality.html . Does the nodes'importance change over the seasons, is it important to observe the evolution of a graph over time?  \n",
    "Plot the results for a few nodes over the seasons using matplotlib. Here is a small tutorial on how to do this: https://www.geeksforgeeks.org/how-to-plot-a-time-series-in-matplotlib/"
   ]
  },
  {
   "cell_type": "code",
   "execution_count": null,
   "id": "8f0d31b1-2ee2-4ffa-9912-a0875602fda4",
   "metadata": {},
   "outputs": [],
   "source": [
    "## Solution for exercises above"
   ]
  },
  {
   "cell_type": "code",
   "execution_count": null,
   "id": "513a85ab",
   "metadata": {},
   "outputs": [],
   "source": [
    "def louvain(graph, k:int):\n",
    "\n",
    "    nx.community.louvain_communities(G, seed=123)\n",
    "    pass"
   ]
  },
  {
   "cell_type": "code",
   "execution_count": null,
   "id": "92f879e7",
   "metadata": {},
   "outputs": [],
   "source": [
    "def clique_percolation(graph, k:int):\n",
    "    pass"
   ]
  },
  {
   "cell_type": "code",
   "execution_count": null,
   "id": "7fec21d1",
   "metadata": {},
   "outputs": [],
   "source": [
    "louvainh, k:int):\n",
    "    pass"
   ]
  },
  {
   "cell_type": "code",
   "execution_count": null,
   "id": "f7e433e1",
   "metadata": {},
   "outputs": [],
   "source": [
    "def label_propagation(graph, k:int):\n",
    "    pass"
   ]
  },
  {
   "cell_type": "markdown",
   "id": "96304a1e-3453-4d31-b9a2-f76d243e2b77",
   "metadata": {},
   "source": [
    "## Crawling a website for additional information\n",
    "The dataset you used in the previous exercise is very interesting, but the nodes have very little information. However, we can find more information online about each character, if we follow the link assigned to each node. Each link get us to a webpage with a lot of information about this character. \n",
    "Let's crawl more information using the BeautifulSoup library that we saw last time. \n",
    "\n",
    "### Exercise\n",
    "5. Write a function that given the page of a character, gets the content of the tag meta property=\"og:description\". To understand better where the tag comes from, read about the Open Graph Protocol: https://ogp.me/\n",
    "For example, for Jon Snow we want to retrieve the following content. Note that the description might be missing for some characters. \n"
   ]
  },
  {
   "cell_type": "raw",
   "id": "f36a02f9-d12e-4cd8-b6d2-8aa1f78d66d0",
   "metadata": {},
   "source": [
    "<meta property=\"og:description\" content=\"Jon Snow, born Aegon Targaryen, is the son of Lyanna Stark and Rhaegar Targaryen, the late Prince of Dragonstone. From infancy, Jon is presented as the bastard son of Lord Eddard Stark, Lyanna's brother, and raised alongside Eddard's lawful children at Winterfell. Jon's true parentage is kept secret from everyone, including Jon himself, in order to protect him from those that sought the complete annihilation of House Targaryen. Jon joins the Night's Watch and is later elected as Lord Commander. \"/>"
   ]
  },
  {
   "cell_type": "code",
   "execution_count": null,
   "id": "c99432f0-7b1b-4cdc-894d-59cc298549e1",
   "metadata": {},
   "outputs": [],
   "source": [
    "## Solution for the Exercise 5\n"
   ]
  },
  {
   "cell_type": "markdown",
   "id": "a773bac4-3e00-47fb-b9e9-9d3846fbc8d8",
   "metadata": {},
   "source": [
    "### Kmeans and TFIDF\n",
    "\n",
    "We now have a data graph, let's try to run k-means on it. First let's see an example on how to do it! We will use the functions \n",
    "- TFIDF for computing a vector representation of text: https://scikit-learn.org/stable/modules/generated/sklearn.feature_extraction.text.TfidfVectorizer.html#sklearn.feature_extraction.text.TfidfVectorizer\n",
    "- kmeans for computing a clustering on the vectors obtained: https://scikit-learn.org/stable/modules/generated/sklearn.cluster.KMeans.html\n",
    "- and the silhouette score to see which value of k to choose (we pick the k that maximizes the silhouette score): https://scikit-learn.org/stable/modules/generated/sklearn.metrics.silhouette_score.html\n",
    "\n",
    "\n",
    "Check the output of the code below! First, see how the TDIDF vectors are computer, when do we have 0 in a dimension?"
   ]
  },
  {
   "cell_type": "code",
   "execution_count": null,
   "id": "e099bfdf-b64f-44af-b133-ca1a5c481768",
   "metadata": {},
   "outputs": [],
   "source": [
    "from sklearn.feature_extraction.text import TfidfVectorizer\n",
    "from sklearn.metrics import silhouette_samples, silhouette_score\n",
    "from sklearn.cluster import KMeans\n",
    "import numpy as np\n",
    "\n",
    "corpus = [\n",
    "\n",
    "    \"Cats are more independent animals.\",\n",
    "\n",
    "    \"Cats are easiers to take care of.\",\n",
    "\n",
    "    \"Monkeys are very smart.\",\n",
    "\n",
    "    \"Dogs are human's best friend.\",\n",
    "    \n",
    "    \"Dogs are runners.\",\n",
    "\n",
    "]\n",
    "\n",
    "vectorizer = TfidfVectorizer()\n",
    "\n",
    "X = vectorizer.fit_transform(corpus)\n",
    "\n",
    "print(vectorizer.get_feature_names_out())\n",
    "\n",
    "a = X.todense()\n",
    "print(a)\n",
    "\n",
    "\n",
    "for k in range(2,len(corpus)):\n",
    "    print(\"number of clusters: \"+ str(k))\n",
    "    kmeans = KMeans(n_clusters=k, random_state=0).fit(X)\n",
    "    print(silhouette_score(X, kmeans.labels_))\n",
    "    print(kmeans.labels_)"
   ]
  },
  {
   "cell_type": "markdown",
   "id": "8bf9a536-c994-49c8-8a14-e64e763dd843",
   "metadata": {},
   "source": [
    "### Exercise\n",
    "\n",
    "6. Run kmeans on the description of the characters, by keeping only characters for which you could retrieve a description. Find the best k using the silhouette score. "
   ]
  },
  {
   "cell_type": "markdown",
   "id": "6de85920-ba2e-4975-9d04-fafd0754bebf",
   "metadata": {},
   "source": [
    "# Graph visualization in Python\n",
    "Now that we are more familiar with graphs, let's try to visualize them! In the past, we have used Gephi: https://github.com/gephi/gephi\n",
    "It is still an option, however, it is no longer regularly maintained. Given this, in this lab we will explore ipysigma, a visualization library created by Medialab in Sciences Po: https://github.com/medialab/ipysigma Go through the tutorial on the page of the ipysigma library.  "
   ]
  },
  {
   "cell_type": "markdown",
   "id": "dca9b472-b323-4dca-b45d-1efd1f9c77b4",
   "metadata": {},
   "source": [
    "### Citation graph visualization in ipysigma\n",
    "In networkx we can create graphs ourselves, but we can also read it from the disk - for example from a CSV file as you saw before, but also from files in the format gexf. Read more about it here: https://networkx.org/documentation/stable/reference/readwrite/gexf.html  In the TP we share a graph in this format called Decodex. It was created by Le Monde and contains information about news websites, their level of reliability and how they cite each other. For example, Le Monde is a node in this graph, with the properties seen below. The graph contains also edges with weights, with the source node being the citing website and the target note the cited website.\n",
    "\n",
    "You can find it yourself if you open the file in a text editor. You will observe that it is written in XML, a format that is similar to HTML. \n",
    "The nodes in this graph can have the reliability score of [\"Parodique\", \"Douteux\", \"Peu fiable\", \"Plutôt fiable\"] "
   ]
  },
  {
   "cell_type": "raw",
   "id": "a440a6c2-eebd-46f1-9853-82bb50d71b2e",
   "metadata": {},
   "source": [
    " <node id=\"8ecdecba-1cf2-482e-a3a4-9dd3fb3e8a32\" label=\"Le Monde\">\n",
    "        <attvalues>\n",
    "          <attvalue for=\"catégorie\" value=\"Média français\"></attvalue>\n",
    "          <attvalue for=\"attr_status\" value=\"IN\"></attvalue>\n",
    "          <attvalue for=\"attr_modification\" value=\"1498556446\"></attvalue>\n",
    "          <attvalue for=\"decodex\" value=\"4\"></attvalue>\n",
    "          <attvalue for=\"orientation contenu\" value=\"Autre ou non déterminé\"></attvalue>\n",
    "          <attvalue for=\"fiabilité\" value=\"Plutôt fiable\"></attvalue>\n",
    "          <attvalue for=\"description\" value=\"Un quotidien et site Internet d'information généraliste. Le groupe est détenu depuis 2010 par les hommes d'affaires Xavier Niel, Pierre Bergé et Matthieu Pigasse.\"></attvalue>\n",
    "          <attvalue for=\"attr_home\" value=\"http://youtube.com/channel/UCYpRDnhk5H8h16jpS84uqsA\"></attvalue>\n",
    "          <attvalue for=\"concat\" value=\"Plutôt fiable - Média français - Autre ou non déterminé\"></attvalue>\n",
    "          <attvalue for=\"synthèse\" value=\"Média français plutôt fiable\"></attvalue>\n",
    "          <attvalue for=\"fiabilité et orientation\" value=\"Plutôt fiable\"></attvalue>\n",
    "        </attvalues>\n",
    "      </node>"
   ]
  },
  {
   "cell_type": "markdown",
   "id": "4167285a-5a79-47c4-82be-670360353b5a",
   "metadata": {},
   "source": [
    "### Creating node partitions and using colors for analysis\n",
    "\n",
    "Below we show how to create a complex visualization using ipysigma. We first partition the nodes according to their reliability (fiabilité) and also we give them colors according to the same attribute. \n",
    "Then we give edges colors according to the color of the target node. We position the nodes according to the partitions they belong to.\n",
    "Like this, we can see how communities cite each other. We also set the size of the nodes to be proportional to their Pagerank score.\n",
    "Note that the library is under development and sometimes the documentation might not be sufficiently clear. Try looking if your problem is also not mentioned in the issues of the libraries on Github: https://github.com/medialab/ipysigma/issues \n",
    "If you do not see it, but think your code should still be correct according to their instructions, create a new issue!\n",
    "\n",
    "Note that you can click on nodes in the ipysigma visualization."
   ]
  },
  {
   "cell_type": "code",
   "execution_count": null,
   "id": "548b8057-f108-4a05-911b-48f000852487",
   "metadata": {},
   "outputs": [],
   "source": [
    "# Importing a gexf graph\n",
    "g = nx.read_gexf('./Decodex.gexf')\n",
    "fiabilite_categories = [\"Parodique\", \"Douteux\", \"Peu fiable\", \"Plutôt fiable\"]\n",
    "colors = {\n",
    "    \"Peu fiable\": \"#E74C3C\",       # Red\n",
    "    \"Douteux\": \"#F1C40F\",    # Yellow\n",
    "    \"Parodique\": \"#2ECC71\",      # Green\n",
    "    \"Plutôt fiable\": \"#3498DB\",  # Blue\n",
    "    \"Unknown\": \"#95A5A6\"\n",
    "    \n",
    "}\n",
    "\n",
    "partitions = {\"Parodique\": [], \"Douteux\": [], \"Peu fiable\": [], \"Plutôt fiable\": []}\n",
    "\n",
    "# Assign colors based on 'fiabilité' attribute (if it exists)\n",
    "for node in g.nodes:\n",
    "    fiabilite = g.nodes[node].get(\"fiabilité\", \"Unknown\")  # Default to \"medium\"\n",
    "    g.nodes[node][\"color_node\"] = colors.get(fiabilite, \"#95A5A6\")  # Gray if unknown\n",
    "    g.nodes[node][\"size\"] = 10  # Set a default size\n",
    "    partitions[fiabilite].append(node)\n",
    "\n",
    "\n",
    "# Assign edge colors based on the target node’s color\n",
    "for source, target in g.edges:\n",
    "    g.edges[source, target][\"color_edge\"] = g.nodes[target][\"color_node\"]\n",
    "\n",
    "\n",
    "layout = {}\n",
    "grid_positions = {\n",
    "    \"Peu fiable\": (-2, -2),\n",
    "     \"Douteux\": (-2, 2),\n",
    "    \"Parodique\": (2, -2),\n",
    "    \"Plutôt fiable\": (2, 2)\n",
    "}\n",
    "\n",
    "for category, nodes in partitions.items():\n",
    "    base_x, base_y = grid_positions[category]\n",
    "    angle_step = 2 * np.pi / max(1, len(nodes)) \n",
    "    radius = 1.5  # Spread out the nodes\n",
    "\n",
    "    for i, node in enumerate(nodes):\n",
    "        angle = i * angle_step\n",
    "        layout[node] = {\n",
    "            \"x\": base_x + radius * np.cos(angle),\n",
    "            \"y\": base_y + radius * np.sin(angle)\n",
    "        }\n",
    "\n",
    "# Visualize with ipysigma\n",
    "sigma = Sigma(\n",
    "    g,\n",
    "    raw_node_color=\"color_node\",\n",
    "    raw_edge_color=\"color_edge\",\n",
    "    layout=layout,\n",
    "    node_label=\"label\",\n",
    "    default_edge_type=\"curve\",\n",
    "    node_border_color_from=\"node\",\n",
    "    label_font=\"cursive\",\n",
    "    node_size=nx.pagerank(g)\n",
    ")\n",
    "\n",
    "sigma"
   ]
  },
  {
   "cell_type": "markdown",
   "id": "5a00ffb5-eac6-404f-9610-e812c25b9a56",
   "metadata": {},
   "source": [
    "### Exercises\n",
    "7. How do reliable sources of information interact with untrusted sources in the Decoders graph, who is citing whom? \n",
    "Give a short explanation based on the above visualization.\n",
    "8. How do the types of information sources interact with each other in the Decoders graph? To observe this, create a similar visualization as the above, but this type using the attribute \"catégorie\".\n",
    "9. How does the citation network look like when we consider the political orientation of the websites? For this use the attribute \"orientation contenu\".\n",
    "10. How does the citation network look like when we use finer partitions, for examples partitions where we have two dimensions, the reliability of the content and the political orientation?"
   ]
  },
  {
   "cell_type": "code",
   "execution_count": null,
   "id": "4ba594de-8582-4500-8678-6c4b3b656a5b",
   "metadata": {},
   "outputs": [],
   "source": [
    "# Solutions for the exercises above"
   ]
  },
  {
   "cell_type": "markdown",
   "id": "0e3bbdbf-c389-4e1c-9d06-9bc4ee4372df",
   "metadata": {},
   "source": [
    "\n",
    "## Read a research article that investigates the potential of using modularity to detect polarization\n",
    "\n",
    "You will find on Moodle a research article published at the conference ICWSM https://www.icwsm.org/2025/index.html\n",
    "Take the time to read it and see how researchers test ideas on real applications and propose new metrics when they consider existing tools are not sufficient. In your project you will also have to investigate your hypothesis on the data of your choice! \n",
    "\n",
    "11. After reading the article, implement the notion of boundary described. Apply it on one of the graphs you have seen so far in this class, or on one graph from here (choose smaller graphs for efficiency): http://snap.stanford.edu/data/index.html\n"
   ]
  },
  {
   "cell_type": "code",
   "execution_count": null,
   "id": "cf3625e6-7e53-47ea-aca6-9048046dc909",
   "metadata": {},
   "outputs": [],
   "source": [
    "# Solution for exercise 10"
   ]
  }
 ],
 "metadata": {
  "kernelspec": {
   "display_name": "Python 3",
   "language": "python",
   "name": "python3"
  },
  "language_info": {
   "codemirror_mode": {
    "name": "ipython",
    "version": 3
   },
   "file_extension": ".py",
   "mimetype": "text/x-python",
   "name": "python",
   "nbconvert_exporter": "python",
   "pygments_lexer": "ipython3",
   "version": "3.10.12"
  }
 },
 "nbformat": 4,
 "nbformat_minor": 5
}
